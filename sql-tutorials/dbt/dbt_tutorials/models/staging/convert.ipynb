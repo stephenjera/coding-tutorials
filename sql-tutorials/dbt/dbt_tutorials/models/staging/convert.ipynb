{
 "cells": [
  {
   "cell_type": "code",
   "execution_count": 8,
   "metadata": {},
   "outputs": [
    {
     "name": "stdout",
     "output_type": "stream",
     "text": [
      "\"TrackId\" as track_id,\n",
      "\"Name\" as name,\n",
      "\"AlbumId\" as album_id,\n",
      "\"MediaTypeId\" as media_type_id,\n",
      "\"GenreId\" as genre_id,\n",
      "\"Composer\" as composer,\n",
      "\"Milliseconds\" as milliseconds,\n",
      "\"Bytes\" as bytes,\n",
      "\"UnitPrice\" as unit_price,\n"
     ]
    }
   ],
   "source": [
    "import re\n",
    "\n",
    "\n",
    "def pascal_to_snake(column_name):\n",
    "    # Use regex to insert underscores between lowercase and uppercase characters\n",
    "    snake_case = re.sub(r\"([a-z])([A-Z])\", r\"\\1_\\2\", column_name).lower()\n",
    "    return snake_case\n",
    "\n",
    "\n",
    "# Example usage:\n",
    "column_names = [\n",
    "    \"TrackId\",\n",
    "    \"Name\",\n",
    "    \"AlbumId\",\n",
    "    \"MediaTypeId\",\n",
    "    \"GenreId\",\n",
    "    \"Composer\",\n",
    "    \"Milliseconds\",\n",
    "    \"Bytes\",\n",
    "    \"UnitPrice\",\n",
    "]\n",
    "\n",
    "for column in column_names:\n",
    "    snake_name = pascal_to_snake(column)\n",
    "    print(f'\"{column}\" as {snake_name},')"
   ]
  }
 ],
 "metadata": {
  "kernelspec": {
   "display_name": "dbt-4_ff7FUo-py3.10",
   "language": "python",
   "name": "python3"
  },
  "language_info": {
   "codemirror_mode": {
    "name": "ipython",
    "version": 3
   },
   "file_extension": ".py",
   "mimetype": "text/x-python",
   "name": "python",
   "nbconvert_exporter": "python",
   "pygments_lexer": "ipython3",
   "version": "3.12.0"
  }
 },
 "nbformat": 4,
 "nbformat_minor": 2
}
