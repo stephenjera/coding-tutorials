{
 "cells": [
  {
   "cell_type": "markdown",
   "metadata": {},
   "source": [
    "# Histogram\n",
    "\n",
    "- **Type**: **Distribution**\n",
    "- **Purpose**: A histogram is used to visualize the **distribution of a single continuous variable** by dividing the data into bins and displaying the frequency of observations within each bin.\n",
    "\n",
    "- **How It Works**:\n",
    "  - The x-axis represents the **range of values** (bins) for the variable, and the y-axis represents the **frequency** or **count** of observations that fall within each bin.\n",
    "  - The shape of the histogram gives insight into the **distribution** of the data, such as:\n",
    "    - **Normal distribution**: A symmetric bell curve.\n",
    "    - **Skewed distribution**: The data is skewed either left or right.\n",
    "    - **Uniform distribution**: The frequency is relatively constant across bins.\n",
    "\n",
    "- **Common Use Cases**:\n",
    "  - Understanding the **distribution** of variables such as **income levels**, **exam scores**, or **ages**.\n",
    "  - Identifying **skewness**, **kurtosis**, and **outliers** in the data.\n",
    "\n",
    "## Customization Parameters\n",
    "\n",
    "### **Matplotlib Customization**\n",
    "\n",
    "- **`bins`**: Number of bins (bars) in the histogram.\n",
    "- **`color`**: Color of the bars in the histogram.\n",
    "- **`alpha`**: Controls the transparency of the bars (range: 0 to 1).\n",
    "- **`edgecolor`**: Color of the border around each bar.\n",
    "- **`density`**: If `True`, the histogram is normalized to show a **probability density** instead of counts.\n",
    "\n",
    "### **Seaborn Customization**\n",
    "\n",
    "- **`bins`**: Number of bins (bars) in the histogram.\n",
    "- **`kde`**: If `True`, adds a **kernel density estimate (KDE)** line to the histogram for smoother distribution representation.\n",
    "- **`color`**: Color of the bars in the histogram.\n",
    "- **`multiple`**: Allows for stacking or overlaying multiple histograms (`'layer'`, `'stack'`, etc.).\n",
    "- **`stat`**: Defines the vertical axis (`'count'`, `'density'`, `'probability'`).\n",
    "\n"
   ]
  },
  {
   "cell_type": "code",
   "execution_count": 1,
   "metadata": {},
   "outputs": [],
   "source": [
    "import matplotlib.pyplot as plt\n",
    "import pandas as pd\n",
    "from sklearn import datasets\n",
    "import seaborn as sns"
   ]
  },
  {
   "cell_type": "code",
   "execution_count": null,
   "metadata": {},
   "outputs": [],
   "source": [
    "iris = datasets.load_iris()\n",
    "df = pd.DataFrame(data=iris.data, columns=iris.feature_names)\n",
    "df[\"type\"] = pd.DataFrame(data=iris.target)\n",
    "# Define a function to map the values\n",
    "def map_flower_type(type_value: int):\n",
    "    if type_value == 0: return 'setosa'\n",
    "    if type_value == 1: return 'versicolor'\n",
    "    if type_value == 2: return 'virginica'\n",
    "    else: return 'Unknown'\n",
    "\n",
    "df['flower'] = df['type'].apply(map_flower_type)"
   ]
  },
  {
   "cell_type": "code",
   "execution_count": null,
   "metadata": {},
   "outputs": [],
   "source": [
    "plt.figure(figsize=(8, 6))\n",
    "plt.hist(\n",
    "    df[\"petal length (cm)\"],\n",
    "    bins=10,\n",
    "    density=False,\n",
    "    color=\"green\",\n",
    ")\n",
    "plt.title(\"Petal Length\")\n",
    "plt.xlabel(\"Petal Length (cm)\")\n",
    "plt.ylabel(\"Frequency\")\n",
    "plt.show()"
   ]
  },
  {
   "cell_type": "code",
   "execution_count": null,
   "metadata": {},
   "outputs": [],
   "source": [
    "sns.histplot(\n",
    "    x=\"petal length (cm)\",\n",
    "    bins=10,\n",
    "    hue=\"flower\",\n",
    "    stat=\"count\",\n",
    "    color=\"green\",\n",
    "    kde=True,\n",
    "    multiple=\"layer\",\n",
    "    data=df,\n",
    ")\n",
    "\n",
    "plt.title(\"Petal Length Distribution\")\n",
    "plt.xlabel(\"Petal Length (cm)\")\n",
    "plt.ylabel(\"Count\")  \n",
    "plt.show()"
   ]
  }
 ],
 "metadata": {
  "kernelspec": {
   "display_name": "matplotlib-venv--l8VfSRw-py3.12",
   "language": "python",
   "name": "python3"
  },
  "language_info": {
   "codemirror_mode": {
    "name": "ipython",
    "version": 3
   },
   "file_extension": ".py",
   "mimetype": "text/x-python",
   "name": "python",
   "nbconvert_exporter": "python",
   "pygments_lexer": "ipython3",
   "version": "3.12.0"
  }
 },
 "nbformat": 4,
 "nbformat_minor": 2
}
