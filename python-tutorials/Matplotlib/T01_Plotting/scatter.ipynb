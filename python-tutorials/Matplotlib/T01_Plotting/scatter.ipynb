{
 "cells": [
  {
   "cell_type": "markdown",
   "metadata": {},
   "source": [
    "# Scatter Plot\n",
    "\n",
    "- **Type**: **Correlation**\n",
    "- **Purpose**: A scatter plot is used to visualize the **relationship between two continuous variables** to identify potential correlations.\n",
    "\n",
    "- **How It Works**:\n",
    "  - Each point on the scatter plot represents an observation with two values: one for the **x-axis (independent variable)** and one for the **y-axis (dependent variable)**.\n",
    "  - The overall pattern of the scatter points indicates:\n",
    "    - **Positive correlation**: As one variable increases, the other also increases.\n",
    "    - **Negative correlation**: As one variable increases, the other decreases.\n",
    "    - **No correlation**: No clear relationship between the variables.\n",
    "\n",
    "- **Common Use Cases**:\n",
    "  - Exploring **relationships** between two variables, such as **height vs. weight** or **age vs. income**.\n",
    "  - Detecting **outliers** or **clusters** in the data.\n",
    "\n",
    "## Customization Parameters\n",
    "\n",
    "### **Matplotlib Customization**\n",
    "\n",
    "- **`cmap`**: Sets the color of the points.\n",
    "- **`alpha`**: Controls the transparency of the points (range: 0 to 1).\n",
    "- **`s`**: Sets the size of the scatter points.\n",
    "- **`edgecolor`**: Sets the color of the border around the points.\n",
    "- **`marker`**: Specifies the shape of the points (e.g., `'o'` for circles, `'x'` for crosses).\n",
    "\n",
    "### **Seaborn Customization**\n",
    "\n",
    "- **`hue`**: Colors the points by a categorical variable.\n",
    "- **`style`**: Changes the shape of the points based on a categorical variable.\n",
    "- **`palette`**: Defines the color palette used for the `hue` variable.\n",
    "- **`size`**: Scales the size of points according to a continuous or categorical variable.\n"
   ]
  },
  {
   "cell_type": "code",
   "execution_count": 2,
   "metadata": {},
   "outputs": [],
   "source": [
    "import matplotlib.pyplot as plt\n",
    "import pandas as pd\n",
    "from sklearn import datasets\n",
    "import seaborn as sns"
   ]
  },
  {
   "cell_type": "code",
   "execution_count": null,
   "metadata": {},
   "outputs": [],
   "source": [
    "iris = datasets.load_iris()\n",
    "df = pd.DataFrame(data=iris.data, columns=iris.feature_names)\n",
    "df[\"type\"] = pd.DataFrame(data=iris.target)\n",
    "# Define a function to map the values\n",
    "def map_flower_type(type_value: int):\n",
    "    if type_value == 0: return 'setosa'\n",
    "    if type_value == 1: return 'versicolor'\n",
    "    if type_value == 2: return 'virginica'\n",
    "    else: return 'Unknown'\n",
    "\n",
    "df['flower'] = df['type'].apply(map_flower_type)"
   ]
  },
  {
   "cell_type": "code",
   "execution_count": null,
   "metadata": {},
   "outputs": [],
   "source": [
    "plt.scatter(\n",
    "    x=df.index,\n",
    "    y=df[\"petal width (cm)\"],\n",
    "    c=df[\"type\"],\n",
    "    s=100,\n",
    "    cmap=\"cool\",\n",
    "    alpha=0.7,\n",
    "    edgecolors=\"black\",\n",
    "    marker=\"o\",\n",
    ")\n",
    "plt.title(\"Petal Width\")\n",
    "plt.xlabel(\"Index\")\n",
    "plt.ylabel(\"Petal Width (cm)\")\n",
    "plt.show()"
   ]
  },
  {
   "cell_type": "code",
   "execution_count": null,
   "metadata": {},
   "outputs": [],
   "source": [
    "sns.scatterplot(\n",
    "    x=df.index,\n",
    "    y=\"petal width (cm)\",\n",
    "    hue=\"flower\",\n",
    "    style=\"flower\",\n",
    "    palette=\"cool\",\n",
    "    alpha=0.7,\n",
    "    # size=\"sepal length (cm)\",\n",
    "    edgecolor=\"black\",\n",
    "    data=df,\n",
    ")\n",
    "plt.title(\"Petal Width\")\n",
    "plt.xlabel(\"Index\")\n",
    "plt.ylabel(\"Petal Width (cm)\")\n",
    "plt.show()"
   ]
  },
  {
   "cell_type": "code",
   "execution_count": null,
   "metadata": {},
   "outputs": [],
   "source": [
    "sns.lmplot(\n",
    "    y=\"sepal width (cm)\",\n",
    "    x=\"petal width (cm)\",\n",
    "    hue=\"flower\",\n",
    "    data=df,\n",
    ")\n",
    "plt.title(\"Petal Width\")\n",
    "plt.xlabel(\"Index\")\n",
    "plt.ylabel(\"Petal Width (cm)\")\n",
    "plt.show()"
   ]
  }
 ],
 "metadata": {
  "kernelspec": {
   "display_name": "matplotlib-venv--l8VfSRw-py3.12",
   "language": "python",
   "name": "python3"
  },
  "language_info": {
   "codemirror_mode": {
    "name": "ipython",
    "version": 3
   },
   "file_extension": ".py",
   "mimetype": "text/x-python",
   "name": "python",
   "nbconvert_exporter": "python",
   "pygments_lexer": "ipython3",
   "version": "3.12.0"
  }
 },
 "nbformat": 4,
 "nbformat_minor": 2
}
