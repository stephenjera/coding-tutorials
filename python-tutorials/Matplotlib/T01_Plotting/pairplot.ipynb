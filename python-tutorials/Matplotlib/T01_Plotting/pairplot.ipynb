{
 "cells": [
  {
   "cell_type": "markdown",
   "metadata": {},
   "source": [
    "# Pair Plot\n",
    "\n",
    "- **Type**: **Multivariate Analysis**\n",
    "- **Purpose**: A pair plot (also known as scatterplot matrix) visualizes **relationships between multiple variables** by plotting **pairwise scatterplots** between all possible pairs of variables. It can also include **diagonal histograms** or KDE plots to show the distribution of each variable.\n",
    "\n",
    "- **How It Works**:\n",
    "  - For **continuous variables**, pair plots show scatter plots to reveal relationships and trends.\n",
    "  - The **diagonal** plots display the distribution of individual variables using histograms or KDE plots.\n",
    "  - Pair plots often use **colors** to differentiate categories or groups when dealing with **categorical data**.\n",
    "\n",
    "- **Common Use Cases**:\n",
    "  - Exploring relationships between multiple **numeric variables**.\n",
    "  - Detecting **correlations** and patterns among several variables.\n",
    "  - Understanding the **distribution** and **spread** of data.\n",
    "\n",
    "## Customization Parameters\n",
    "\n",
    "### **Seaborn Customization**\n",
    "\n",
    "- **`hue`**: Differentiates the data points by color based on a categorical variable.\n",
    "- **`diag_kind`**: Chooses the plot type for the diagonal (`'hist'` or `'kde'`).\n",
    "- **`palette`**: Defines the color palette for the `hue` variable.\n",
    "- **`corner`**: If `True`, only plots the lower triangle of the pair plot (useful to reduce redundancy).\n",
    "\n"
   ]
  },
  {
   "cell_type": "code",
   "execution_count": 1,
   "metadata": {},
   "outputs": [],
   "source": [
    "import matplotlib.pyplot as plt\n",
    "import pandas as pd\n",
    "from sklearn import datasets\n",
    "import seaborn as sns"
   ]
  },
  {
   "cell_type": "code",
   "execution_count": 2,
   "metadata": {},
   "outputs": [],
   "source": [
    "iris = datasets.load_iris()\n",
    "df = pd.DataFrame(data=iris.data, columns=iris.feature_names)\n",
    "df[\"type\"] = pd.DataFrame(data=iris.target)\n",
    "# Define a function to map the values\n",
    "def map_flower_type(type_value: int):\n",
    "    if type_value == 0: return 'setosa'\n",
    "    if type_value == 1: return 'versicolor'\n",
    "    if type_value == 2: return 'virginica'\n",
    "    else: return 'Unknown'\n",
    "\n",
    "df['flower'] = df['type'].apply(map_flower_type)"
   ]
  },
  {
   "cell_type": "code",
   "execution_count": null,
   "metadata": {},
   "outputs": [],
   "source": [
    "sns.pairplot(\n",
    "    kind=\"reg\",\n",
    "    diag_kind='kde',\n",
    "    hue=\"flower\",\n",
    "    palette=\"cool\",\n",
    "    corner=True,\n",
    "    data=df,)\n",
    "plt.show()"
   ]
  }
 ],
 "metadata": {
  "kernelspec": {
   "display_name": "matplotlib-venv--l8VfSRw-py3.12",
   "language": "python",
   "name": "python3"
  },
  "language_info": {
   "codemirror_mode": {
    "name": "ipython",
    "version": 3
   },
   "file_extension": ".py",
   "mimetype": "text/x-python",
   "name": "python",
   "nbconvert_exporter": "python",
   "pygments_lexer": "ipython3",
   "version": "3.12.0"
  }
 },
 "nbformat": 4,
 "nbformat_minor": 2
}
