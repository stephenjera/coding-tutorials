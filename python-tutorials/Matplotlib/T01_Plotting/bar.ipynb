{
 "cells": [
  {
   "cell_type": "markdown",
   "metadata": {},
   "source": [
    "# Bar Chart\n",
    "\n",
    "- **Type**: **Comparison**\n",
    "- **Purpose**: A bar chart is used to visualize **categorical data** by comparing the size of different categories. Each bar represents a category, and the height (or length) represents the value associated with that category.\n",
    "\n",
    "- **How It Works**:\n",
    "  - The x-axis (or y-axis for horizontal bars) represents the **categories**, while the y-axis (or x-axis) represents the **values** or **counts** for each category.\n",
    "  - The length of the bars shows the magnitude of the value for each category, allowing for easy comparison.\n",
    "  \n",
    "- **Common Use Cases**:\n",
    "  - Comparing **sales figures** across different products.\n",
    "  - Showing the **frequency** of different categories, such as **survey responses**, **population by age group**, etc.\n",
    "  - Summarizing categorical data or discrete variables.\n",
    "\n",
    "## Customization Parameters\n",
    "\n",
    "### **Matplotlib Customization**\n",
    "\n",
    "- **`color`**: Sets the color of the bars.\n",
    "- **`width`**: Sets the width of the bars.\n",
    "- **`edgecolor`**: Defines the color of the bar borders.\n",
    "- **`align`**: Controls whether bars are aligned at the center (`'center'`) or edge (`'edge'`).\n",
    "- **`orientation`**: Switches between vertical (`'vertical'`) and horizontal (`'horizontal'`) bars.\n",
    "\n",
    "### **Seaborn Customization**\n",
    "\n",
    "- **`palette`**: Defines the color palette for the bars.\n",
    "- **`hue`**: Differentiates bars by color according to a categorical variable.\n",
    "- **`ci`**: Adds confidence intervals to the bars (default is `95%`).\n",
    "- **`orient`**: Controls the orientation of the bars (`'v'` for vertical or `'h'` for horizontal).\n",
    "- **`dodge`**: If `True`, bars are separated side-by-side for each level of the `hue` variable.\n",
    "\n"
   ]
  },
  {
   "cell_type": "code",
   "execution_count": 2,
   "metadata": {},
   "outputs": [],
   "source": [
    "import matplotlib.pyplot as plt\n",
    "import pandas as pd\n",
    "from sklearn import datasets\n",
    "import seaborn as sns"
   ]
  },
  {
   "cell_type": "code",
   "execution_count": null,
   "metadata": {},
   "outputs": [],
   "source": [
    "iris = datasets.load_iris()\n",
    "df = pd.DataFrame(data=iris.data, columns=iris.feature_names)\n",
    "df[\"type\"] = pd.DataFrame(data=iris.target)\n",
    "# Define a function to map the values\n",
    "def map_flower_type(type_value: int):\n",
    "    if type_value == 0: return 'setosa'\n",
    "    if type_value == 1: return 'versicolor'\n",
    "    if type_value == 2: return 'virginica'\n",
    "    else: return 'Unknown'\n",
    "\n",
    "df['flower'] = df['type'].apply(map_flower_type)"
   ]
  },
  {
   "cell_type": "code",
   "execution_count": null,
   "metadata": {},
   "outputs": [],
   "source": [
    "# Bar chart for sepal width\n",
    "plt.figure(figsize=(8, 6))\n",
    "plt.bar(df.flower, df['sepal width (cm)'], color='orange')\n",
    "plt.title('Sepal Width')\n",
    "plt.xlabel('Index')\n",
    "plt.ylabel('Sepal Width (cm)')\n",
    "plt.show()"
   ]
  },
  {
   "cell_type": "code",
   "execution_count": null,
   "metadata": {},
   "outputs": [],
   "source": [
    "sns.barplot(\n",
    "    x=df[\"flower\"],\n",
    "    y=df['sepal width (cm)'],\n",
    "    linewidth=2,\n",
    "    hue=\"flower\",\n",
    "    estimator=\"median\",\n",
    "    errorbar=(\"ci\", 95),\n",
    "    palette=\"cool\",\n",
    "    legend=False,\n",
    "    orient='v',\n",
    "    dodge=False,\n",
    "    data=df,\n",
    ")\n",
    "\n",
    "plt.title(\"Sepal Width\")\n",
    "plt.xlabel(\"Index\")\n",
    "plt.ylabel(\"Sepal Width (cm)\")\n",
    "plt.show()"
   ]
  },
  {
   "cell_type": "code",
   "execution_count": null,
   "metadata": {},
   "outputs": [],
   "source": [
    "# Calculate mean sepal width for each flower type\n",
    "mean_sepal_width = df.groupby('flower')['sepal width (cm)'].mean()\n",
    "\n",
    "plt.figure(figsize=(8, 6))\n",
    "plt.bar(\n",
    "    x=mean_sepal_width.index,\n",
    "    height=mean_sepal_width,\n",
    "    color=\"orange\",\n",
    "    width=0.8,\n",
    "    align='center',\n",
    ")\n",
    "plt.title(\"Sepal Width\")\n",
    "plt.xlabel(\"Index\")\n",
    "plt.ylabel(\"Sepal Width (cm)\")\n",
    "plt.show()"
   ]
  }
 ],
 "metadata": {
  "kernelspec": {
   "display_name": "matplotlib-venv--l8VfSRw-py3.12",
   "language": "python",
   "name": "python3"
  },
  "language_info": {
   "codemirror_mode": {
    "name": "ipython",
    "version": 3
   },
   "file_extension": ".py",
   "mimetype": "text/x-python",
   "name": "python",
   "nbconvert_exporter": "python",
   "pygments_lexer": "ipython3",
   "version": "3.12.0"
  }
 },
 "nbformat": 4,
 "nbformat_minor": 2
}
