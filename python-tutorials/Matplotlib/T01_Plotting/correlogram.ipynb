{
 "cells": [
  {
   "cell_type": "markdown",
   "metadata": {},
   "source": [
    "# Correlogram\n",
    "\n",
    "- **Type**: **Correlation**\n",
    "- **Purpose**: A correlogram is used to visualize the **correlation matrix** of variables, helping to identify relationships and patterns between multiple variables. It shows the strength and direction of the correlation between pairs of variables.\n",
    "\n",
    "- **How It Works**:\n",
    "  - Each cell in the correlogram represents the **correlation coefficient** between two variables, which ranges from **-1** (perfect negative correlation) to **+1** (perfect positive correlation).\n",
    "  - A **color gradient** is used to indicate the strength of the correlation (often red for negative, blue for positive, or similar).\n",
    "  - The **diagonal** represents self-correlation (which is always 1).\n",
    "\n",
    "- **Common Use Cases**:\n",
    "  - Understanding relationships in **multivariate data**.\n",
    "  - Analyzing how variables like **age, income, and education** are related.\n",
    "  - Identifying **highly correlated variables** to avoid multicollinearity in regression models.\n",
    "\n",
    "## Customization Parameters\n",
    "\n",
    "### **Seaborn Customization**\n",
    "\n",
    "- **`cmap`**: Specifies the colormap for the heatmap.\n",
    "- **`annot`**: Adds correlation coefficients to each cell as text.\n",
    "- **`mask`**: Masks part of the heatmap (often used to mask the upper triangle to avoid redundancy).\n",
    "- **`center`**: Defines the midpoint of the colormap (typically `0` for correlation matrices).\n",
    "- **`linewidths`**: Sets the width of the lines between the cells.\n",
    "\n"
   ]
  },
  {
   "cell_type": "code",
   "execution_count": 8,
   "metadata": {},
   "outputs": [],
   "source": [
    "import matplotlib.pyplot as plt\n",
    "import pandas as pd\n",
    "from sklearn import datasets\n",
    "import seaborn as sns\n",
    "import numpy as np"
   ]
  },
  {
   "cell_type": "code",
   "execution_count": 9,
   "metadata": {},
   "outputs": [],
   "source": [
    "iris = datasets.load_iris()\n",
    "df = pd.DataFrame(data=iris.data, columns=iris.feature_names)\n",
    "df[\"type\"] = pd.DataFrame(data=iris.target)\n",
    "# Define a function to map the values\n",
    "def map_flower_type(type_value: int):\n",
    "    if type_value == 0: return 'setosa'\n",
    "    if type_value == 1: return 'versicolor'\n",
    "    if type_value == 2: return 'virginica'\n",
    "    else: return 'Unknown'\n",
    "\n",
    "df['flower'] = df['type'].apply(map_flower_type)"
   ]
  },
  {
   "cell_type": "code",
   "execution_count": null,
   "metadata": {},
   "outputs": [],
   "source": [
    "corr_matrix = df.corr(numeric_only=True)\n",
    "mask = np.triu(np.ones_like(corr_matrix, dtype=bool), k=1)\n",
    "sns.heatmap(\n",
    "    corr_matrix,\n",
    "    annot=True,\n",
    "    cmap=\"coolwarm\",\n",
    "    mask=mask,\n",
    "    linewidths=0.7,\n",
    "    center=0,\n",
    ")\n",
    "plt.title(\"Correlation Matrix\")\n",
    "plt.show()"
   ]
  }
 ],
 "metadata": {
  "kernelspec": {
   "display_name": "matplotlib-venv--l8VfSRw-py3.12",
   "language": "python",
   "name": "python3"
  },
  "language_info": {
   "codemirror_mode": {
    "name": "ipython",
    "version": 3
   },
   "file_extension": ".py",
   "mimetype": "text/x-python",
   "name": "python",
   "nbconvert_exporter": "python",
   "pygments_lexer": "ipython3",
   "version": "3.12.0"
  }
 },
 "nbformat": 4,
 "nbformat_minor": 2
}
