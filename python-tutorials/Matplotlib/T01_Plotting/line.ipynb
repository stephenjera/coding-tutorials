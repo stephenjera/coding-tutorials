{
 "cells": [
  {
   "cell_type": "markdown",
   "metadata": {},
   "source": [
    "# Line Chart\n",
    "\n",
    "- **Type**: **Trend / Change Over Time**\n",
    "- **Purpose**: A line chart is used to visualize **changes or trends** in data over a continuous range, typically time. The data points are connected by straight lines, making it easy to see the direction of change.\n",
    "\n",
    "- **How It Works**:\n",
    "  - The x-axis represents the **continuous variable** (often time), and the y-axis represents the **dependent variable**.\n",
    "  - A line is drawn through points that represent the data values at different points on the x-axis, showing how the variable **increases**, **decreases**, or remains constant over time.\n",
    "\n",
    "- **Common Use Cases**:\n",
    "  - Tracking **sales** over time (e.g., monthly revenue).\n",
    "  - Showing **stock price movements**.\n",
    "  - Visualizing the progression of a **population** over the years.\n",
    "\n",
    "## Customization Parameters\n",
    "\n",
    "### **Matplotlib Customization**\n",
    "\n",
    "- **`color`**: Sets the color of the line.\n",
    "- **`linewidth`**: Controls the thickness of the line.\n",
    "- **`linestyle`**: Defines the style of the line (e.g., `'-'` for solid, `'--'` for dashed).\n",
    "- **`marker`**: Adds markers at data points (e.g., `'o'` for circles, `'x'` for crosses).\n",
    "- **`alpha`**: Controls the transparency of the line (range: 0 to 1).\n",
    "\n",
    "### **Seaborn Customization**\n",
    "\n",
    "- **`hue`**: Differentiates multiple lines by color based on a categorical variable.\n",
    "- **`style`**: Differentiates lines by line style (e.g., dashed or solid) based on a categorical variable.\n",
    "- **`palette`**: Defines the color palette for the lines.\n",
    "- **`markers`**: Adds markers to the data points on the line.\n",
    "- **`dashes`**: Controls whether lines are solid or dashed based on the `style` variable.\n",
    "\n"
   ]
  },
  {
   "cell_type": "code",
   "execution_count": 1,
   "metadata": {},
   "outputs": [],
   "source": [
    "import matplotlib.pyplot as plt\n",
    "import pandas as pd\n",
    "from sklearn import datasets\n",
    "import seaborn as sns"
   ]
  },
  {
   "cell_type": "code",
   "execution_count": null,
   "metadata": {},
   "outputs": [],
   "source": [
    "iris = datasets.load_iris()\n",
    "df = pd.DataFrame(data=iris.data, columns=iris.feature_names)\n",
    "df[\"type\"] = pd.DataFrame(data=iris.target)\n",
    "# Define a function to map the values\n",
    "def map_flower_type(type_value: int):\n",
    "    if type_value == 0: return 'setosa'\n",
    "    if type_value == 1: return 'versicolor'\n",
    "    if type_value == 2: return 'virginica'\n",
    "    else: return 'Unknown'\n",
    "\n",
    "df['flower'] = df['type'].apply(map_flower_type)"
   ]
  },
  {
   "cell_type": "code",
   "execution_count": null,
   "metadata": {},
   "outputs": [],
   "source": [
    "plt.figure(figsize=(8, 6))\n",
    "plt.plot(\n",
    "    df[\"sepal length (cm)\"],\n",
    "    color=\"blue\",\n",
    "    linewidth=1,\n",
    "    linestyle=\"--\",\n",
    "    marker=\"x\",\n",
    "    alpha=0.8,\n",
    ")\n",
    "plt.title(\"Sepal Length\")\n",
    "plt.xlabel(\"Index\")\n",
    "plt.ylabel(\"Sepal Length (cm)\")\n",
    "plt.show()"
   ]
  },
  {
   "cell_type": "code",
   "execution_count": null,
   "metadata": {},
   "outputs": [],
   "source": [
    "plt.figure(figsize=(8, 6))\n",
    "sns.lineplot(\n",
    "    x=df.index,\n",
    "    y=df['sepal length (cm)'],\n",
    "    color=\"blue\",\n",
    "    hue=\"flower\",\n",
    "    style=\"flower\",\n",
    "    markers=True,\n",
    "    dashes=False,\n",
    "    palette=\"cool\",\n",
    "    data=df,\n",
    ")\n",
    "plt.title(\"Sepal Length\")\n",
    "plt.xlabel(\"Index\")\n",
    "plt.ylabel(\"Sepal Length (cm)\")\n",
    "plt.show()"
   ]
  }
 ],
 "metadata": {
  "kernelspec": {
   "display_name": "matplotlib-venv--l8VfSRw-py3.12",
   "language": "python",
   "name": "python3"
  },
  "language_info": {
   "codemirror_mode": {
    "name": "ipython",
    "version": 3
   },
   "file_extension": ".py",
   "mimetype": "text/x-python",
   "name": "python",
   "nbconvert_exporter": "python",
   "pygments_lexer": "ipython3",
   "version": "3.12.0"
  }
 },
 "nbformat": 4,
 "nbformat_minor": 2
}
