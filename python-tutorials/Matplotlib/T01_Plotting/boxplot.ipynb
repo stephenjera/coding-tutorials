{
 "cells": [
  {
   "cell_type": "markdown",
   "metadata": {},
   "source": [
    "# Box Plot\n",
    "\n",
    "- **Type**: **Distribution / Summary Statistics**\n",
    "- **Purpose**: A box plot is used to visualize the **distribution of a dataset** by showing its **summary statistics**, including the median, quartiles, and potential outliers. It helps in understanding the **spread** and **skewness** of the data.\n",
    "\n",
    "- **How It Works**:\n",
    "  - The **box** represents the **interquartile range (IQR)**, which contains the middle 50% of the data.\n",
    "  - The **line inside the box** represents the **median** (50th percentile).\n",
    "  - The **whiskers** extend to the minimum and maximum values within 1.5 times the IQR.\n",
    "  - **Outliers** are displayed as individual points outside the whiskers.\n",
    "\n",
    "- **Common Use Cases**:\n",
    "  - Comparing the distribution of **test scores** across different groups.\n",
    "  - Visualizing **salary distributions** by department.\n",
    "  - Summarizing and comparing distributions across multiple categories.\n",
    "\n",
    "## Customization Parameters\n",
    "\n",
    "### **Matplotlib Customization**\n",
    "\n",
    "- **`patch_artist`**: If `True`, fills the box with color.\n",
    "- **`notch`**: If `True`, adds a notch around the median to show confidence intervals.\n",
    "- **`vert`**: Controls the orientation (`True` for vertical, `False` for horizontal).\n",
    "- **`widths`**: Controls the width of the boxes.\n",
    "- **`whiskerprops`**: Customizes the appearance of the whiskers (e.g., color, linewidth).\n",
    "\n",
    "### **Seaborn Customization**\n",
    "\n",
    "- **`hue`**: Colors the boxes based on a categorical variable.\n",
    "- **`palette`**: Defines the color palette for the boxes.\n",
    "- **`linewidth`**: Sets the thickness of the box lines.\n",
    "- **`width`**: Controls the width of the boxes.\n",
    "- **`fliersize`**: Controls the size of the outliers displayed as points.\n",
    "\n"
   ]
  },
  {
   "cell_type": "code",
   "execution_count": 1,
   "metadata": {},
   "outputs": [],
   "source": [
    "import matplotlib.pyplot as plt\n",
    "import pandas as pd\n",
    "from sklearn import datasets\n",
    "import seaborn as sns"
   ]
  },
  {
   "cell_type": "code",
   "execution_count": null,
   "metadata": {},
   "outputs": [],
   "source": [
    "iris = datasets.load_iris()\n",
    "df = pd.DataFrame(data=iris.data, columns=iris.feature_names)\n",
    "df[\"type\"] = pd.DataFrame(data=iris.target)\n",
    "# Define a function to map the values\n",
    "def map_flower_type(type_value: int):\n",
    "    if type_value == 0: return 'setosa'\n",
    "    if type_value == 1: return 'versicolor'\n",
    "    if type_value == 2: return 'virginica'\n",
    "    else: return 'Unknown'\n",
    "\n",
    "df['flower'] = df['type'].apply(map_flower_type)"
   ]
  },
  {
   "cell_type": "code",
   "execution_count": null,
   "metadata": {},
   "outputs": [],
   "source": [
    "flower_types = df[\"flower\"].unique()\n",
    "sepal_length_data = []\n",
    "\n",
    "for flower_type in flower_types:\n",
    "    # Extract sepal length data for each flower type\n",
    "    data_subset = df[df[\"flower\"] == flower_type][\"sepal length (cm)\"]\n",
    "    sepal_length_data.append(data_subset)\n",
    "\n",
    "# Create separate boxplots for each flower type data\n",
    "for i, data in enumerate(sepal_length_data):\n",
    "    plt.boxplot(\n",
    "        data,\n",
    "        positions=[i],\n",
    "        notch=False,\n",
    "        patch_artist=True,\n",
    "        label=flower_types[i],\n",
    "        vert=True,\n",
    "        widths=0.5,\n",
    "    )\n",
    "\n",
    "plt.title(\"Box Plot of Sepal Length by Flower Type (Matplotlib)\")\n",
    "plt.xlabel(\"Flower Type\")\n",
    "plt.ylabel(\"Sepal Length (cm)\")\n",
    "plt.xticks(range(len(flower_types)), flower_types)\n",
    "plt.show()"
   ]
  },
  {
   "cell_type": "code",
   "execution_count": null,
   "metadata": {},
   "outputs": [],
   "source": [
    "sns.boxplot(\n",
    "    x=df[\"flower\"],\n",
    "    y=df[\"sepal length (cm)\"],\n",
    "    hue=\"flower\",\n",
    "    palette=\"cool\",\n",
    "    fill=False,\n",
    "    linewidth=1.5,\n",
    "    width=0.4,\n",
    "    legend=True,\n",
    "    data=df,\n",
    ")\n",
    "plt.title('Box Plot of Sepal Lengths')\n",
    "plt.xlabel('Flower Type')\n",
    "plt.ylabel('Sepal Length (cm)')\n",
    "plt.show()"
   ]
  }
 ],
 "metadata": {
  "kernelspec": {
   "display_name": "matplotlib-venv--l8VfSRw-py3.12",
   "language": "python",
   "name": "python3"
  },
  "language_info": {
   "codemirror_mode": {
    "name": "ipython",
    "version": 3
   },
   "file_extension": ".py",
   "mimetype": "text/x-python",
   "name": "python",
   "nbconvert_exporter": "python",
   "pygments_lexer": "ipython3",
   "version": "3.12.0"
  }
 },
 "nbformat": 4,
 "nbformat_minor": 2
}
