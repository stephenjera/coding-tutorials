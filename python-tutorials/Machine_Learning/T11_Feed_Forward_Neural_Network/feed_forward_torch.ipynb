{
 "cells": [
  {
   "cell_type": "code",
   "execution_count": null,
   "metadata": {},
   "outputs": [],
   "source": [
    "import torch\n",
    "from sklearn.datasets import load_iris\n",
    "from sklearn.model_selection import train_test_split\n",
    "from torch import nn"
   ]
  },
  {
   "cell_type": "code",
   "execution_count": null,
   "metadata": {},
   "outputs": [],
   "source": [
    "device = torch.device(\"cuda\" if torch.cuda.is_available() else \"cpu\")\n",
    "device"
   ]
  },
  {
   "cell_type": "code",
   "execution_count": null,
   "metadata": {},
   "outputs": [],
   "source": [
    "# Load the Iris dataset\n",
    "iris = load_iris()\n",
    "X = torch.tensor(iris.data, dtype=torch.float32).to(device)\n",
    "y = torch.tensor(iris.target, dtype=torch.long).to(device)  "
   ]
  },
  {
   "cell_type": "code",
   "execution_count": null,
   "metadata": {},
   "outputs": [],
   "source": [
    "# Split data into training and testing sets\n",
    "X_train, X_test, y_train, y_test = train_test_split(X, y, test_size=0.2, random_state=42)"
   ]
  },
  {
   "cell_type": "code",
   "execution_count": null,
   "metadata": {},
   "outputs": [],
   "source": [
    "class IrisClassifier(nn.Module):\n",
    "  def __init__(self):\n",
    "    super(IrisClassifier, self).__init__()\n",
    "    self.fc1 = nn.Linear(4, 10)  # Input layer to first hidden layer\n",
    "    self.relu = nn.ReLU()  # Activation function\n",
    "    self.fc2 = nn.Linear(10, 10)  # First hidden layer to second hidden layer\n",
    "    self.output = nn.Linear(10, 3)  # Second hidden layer to output layer\n",
    "\n",
    "  def forward(self, x):\n",
    "    x = self.relu(self.fc1(x))\n",
    "    x = self.relu(self.fc2(x))\n",
    "    x = torch.nn.functional.softmax(self.output(x), dim=1)  # Apply softmax for probability distribution\n",
    "    return x"
   ]
  },
  {
   "cell_type": "code",
   "execution_count": null,
   "metadata": {},
   "outputs": [],
   "source": [
    "# Create the model instance and move it to the device\n",
    "model = IrisClassifier().to(device)\n",
    "\n",
    "# Define optimizer and loss function\n",
    "optimizer = torch.optim.Adam(model.parameters(), lr=0.001)\n",
    "loss_fn = torch.nn.CrossEntropyLoss()\n",
    "\n",
    "# Define training loop\n",
    "epochs = 100\n",
    "for epoch in range(epochs):\n",
    "  # Forward pass\n",
    "  y_pred = model(X_train)\n",
    "  loss = loss_fn(y_pred, y_train)\n",
    "\n",
    "  # Backward pass and parameter update\n",
    "  optimizer.zero_grad()\n",
    "  loss.backward()\n",
    "  optimizer.step()\n",
    "\n",
    "  # Print training progress\n",
    "  if epoch % 10 == 0:\n",
    "    print(f\"Epoch: {epoch+1}, Loss: {loss.item():.4f}\")"
   ]
  },
  {
   "cell_type": "code",
   "execution_count": null,
   "metadata": {},
   "outputs": [],
   "source": [
    "# Evaluate the model on test data (already on device)\n",
    "with torch.no_grad():\n",
    "  y_pred = model(X_test)\n",
    "  _, predicted = torch.max(y_pred, 1)\n",
    "  accuracy = (predicted == y_test).sum().float() / len(y_test)\n",
    "  print(f\"Test Accuracy: {accuracy:.4f}\")"
   ]
  }
 ],
 "metadata": {
  "kernelspec": {
   "display_name": "machine-learning-ktax2Mo_-py3.10",
   "language": "python",
   "name": "python3"
  },
  "language_info": {
   "codemirror_mode": {
    "name": "ipython",
    "version": 3
   },
   "file_extension": ".py",
   "mimetype": "text/x-python",
   "name": "python",
   "nbconvert_exporter": "python",
   "pygments_lexer": "ipython3",
   "version": "3.10.12"
  }
 },
 "nbformat": 4,
 "nbformat_minor": 2
}
