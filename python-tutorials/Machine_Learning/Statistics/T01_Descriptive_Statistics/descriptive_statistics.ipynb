{
 "cells": [
  {
   "attachments": {},
   "cell_type": "markdown",
   "metadata": {},
   "source": [
    "# Descriptive Statistics"
   ]
  },
  {
   "cell_type": "code",
   "execution_count": 50,
   "metadata": {},
   "outputs": [],
   "source": [
    "import statistics\n",
    "import numpy as np\n",
    "import scipy.stats\n",
    "import pandas as pd\n",
    "import matplotlib.pyplot as plt\n",
    "import seaborn as sns\n",
    "import random as rand"
   ]
  },
  {
   "attachments": {},
   "cell_type": "markdown",
   "metadata": {},
   "source": [
    "### Population and samples \n",
    "- **Population:** set of all elements you're interested in \n",
    "- **Sample**: a subset of a population"
   ]
  },
  {
   "cell_type": "code",
   "execution_count": 53,
   "metadata": {},
   "outputs": [
    {
     "name": "stdout",
     "output_type": "stream",
     "text": [
      "[5, 20]\n"
     ]
    }
   ],
   "source": [
    "population = [5, 10, 15, 20]\n",
    "sample_size = 2\n",
    "sample = rand.sample(population, sample_size)\n",
    "print(sample)"
   ]
  },
  {
   "attachments": {},
   "cell_type": "markdown",
   "metadata": {},
   "source": [
    "### Types of Measures\n",
    "- **Central Tendency:** tells you about the centres of data e.g. mean, median and mode\n",
    "- **Variability:** tells you about the spread of data e.g. variance and standard deviation\n",
    "- **Correlation or joint variability:** tells you about the relation between a pair of variables in a dataset e.g. correlation coefficient"
   ]
  },
  {
   "attachments": {},
   "cell_type": "markdown",
   "metadata": {},
   "source": [
    "### Central Tendancy"
   ]
  },
  {
   "attachments": {},
   "cell_type": "markdown",
   "metadata": {},
   "source": [
    "#### Mean\n",
    "\n",
    "The sample mean or sample arithmetic mean is the average value of a sample of data. It is calculated by adding up all the values in the sample and then dividing by the number of values in the sample."
   ]
  },
  {
   "cell_type": "code",
   "execution_count": 28,
   "metadata": {},
   "outputs": [
    {
     "name": "stdout",
     "output_type": "stream",
     "text": [
      "40.2 40.2 40.2\n",
      "nan nan nan nan 39.666666666666664\n"
     ]
    }
   ],
   "source": [
    "x = [23, 45, 12, 34, 56, 32, 44, 67, 39, 50]\n",
    "mean = sum(x) / len(x)\n",
    "mean2 = statistics.mean(x)\n",
    "mean3 = statistics.fmean(x)  # a faster implementation of mean\n",
    "print(mean, mean2, mean3)\n",
    "\n",
    "\n",
    "x_nan = [23, np.nan, 12, 34, 56, 32, 44, 67, 39, 50]\n",
    "mean4 = sum(x_nan) / len(x_nan)\n",
    "mean5 = statistics.mean(x_nan)\n",
    "mean6 = statistics.fmean(x_nan)\n",
    "mean7 = np.mean(x_nan)\n",
    "mean8 = np.nanmean(x_nan)  # ignore nan values\n",
    "print(mean4, mean5, mean6, mean7, mean8)"
   ]
  },
  {
   "attachments": {},
   "cell_type": "markdown",
   "metadata": {},
   "source": [
    "#### Weighted mean\n",
    "\n",
    "The weighted mean is a type of average where each value in the dataset is assigned a weight. The weighted mean is calculated by multiplying each value by its weight, summing up the products, and then dividing by the sum of the weights.\n",
    "\n",
    "The weighted mean is often used when some values in the dataset are considered more important than others."
   ]
  },
  {
   "cell_type": "code",
   "execution_count": 29,
   "metadata": {},
   "outputs": [
    {
     "name": "stdout",
     "output_type": "stream",
     "text": [
      "6.95 6.95\n"
     ]
    }
   ],
   "source": [
    "# Define the data values\n",
    "x = [8.0, 1, 2.5, 4, 28.0]\n",
    "# Define the weights for each data value\n",
    "w = [0.1, 0.2, 0.3, 0.25, 0.15]\n",
    "\n",
    "# Calculate the weighted mean by multiplying each data value by its weight,\n",
    "# summing the products, and then dividing by the sum of the weights\n",
    "weighted_mean = sum(x_ * w_ for (x_, w_) in zip(x, w)) / sum(w)\n",
    "weighted_mean2 = np.average(x,weights=w)\n",
    "# Print the result\n",
    "print(weighted_mean, weighted_mean2)"
   ]
  },
  {
   "cell_type": "code",
   "execution_count": 30,
   "metadata": {},
   "outputs": [
    {
     "name": "stdout",
     "output_type": "stream",
     "text": [
      "86.5\n"
     ]
    }
   ],
   "source": [
    "y = [80,85,90]\n",
    "z = [0.2,0.3,0.5]\n",
    "\n",
    "print(np.average(y, weights=z))"
   ]
  },
  {
   "attachments": {},
   "cell_type": "markdown",
   "metadata": {},
   "source": [
    "#### Harmonic mean\n",
    "\n",
    "The harmonic mean is a type of average that is calculated by dividing the number of values in the dataset by the sum of the reciprocals of the values. In other words, if you have a dataset with n values, the harmonic mean is calculated as n divided by the sum of 1/x for each value x in the dataset.\n",
    "\n",
    "The harmonic mean is often used when dealing with rates or ratios. "
   ]
  },
  {
   "cell_type": "code",
   "execution_count": 31,
   "metadata": {},
   "outputs": [
    {
     "name": "stdout",
     "output_type": "stream",
     "text": [
      "2.7613412228796843 2.7613412228796843 2.7613412228796843\n"
     ]
    }
   ],
   "source": [
    "x = [8.0, 1, 2.5, 4, 28.0]\n",
    "hmean = len(x) / sum(1 / item for item in x)\n",
    "hmean2 = statistics.harmonic_mean(x)\n",
    "hmean3 = scipy.stats.hmean(x)\n",
    "print(hmean, hmean2, hmean3)"
   ]
  },
  {
   "attachments": {},
   "cell_type": "markdown",
   "metadata": {},
   "source": [
    "#### Geometric mean \n",
    "\n",
    "The geometric mean is a type of average that is calculated by taking the nth root of the product of n values in a dataset. In other words, if you have a dataset with n values, the geometric mean is calculated by multiplying all the values together and then taking the nth root of the result.\n",
    "\n",
    "The geometric mean is often used when dealing with values that vary over several orders of magnitude or when calculating average growth rates. "
   ]
  },
  {
   "cell_type": "code",
   "execution_count": 32,
   "metadata": {},
   "outputs": [
    {
     "name": "stdout",
     "output_type": "stream",
     "text": [
      "1.197215767258376 1.197215767258376\n"
     ]
    }
   ],
   "source": [
    "a = [1.1, 1.2, 1.3]\n",
    "\n",
    "mean = scipy.stats.gmean(a)\n",
    "mean2 = statistics.geometric_mean(a)\n",
    "\n",
    "print(mean, mean2)"
   ]
  },
  {
   "attachments": {},
   "cell_type": "markdown",
   "metadata": {},
   "source": [
    "#### Median\n",
    "The sample median is the middle element of a sorted dataset. If 𝑛 is even, then the median is the arithmetic mean of the two values in the middle"
   ]
  },
  {
   "cell_type": "code",
   "execution_count": 33,
   "metadata": {},
   "outputs": [
    {
     "name": "stdout",
     "output_type": "stream",
     "text": [
      "4.75 4.75 4 5.5\n"
     ]
    }
   ],
   "source": [
    "x = [8.0, 1, 2.5, 4, 28.0, 5.5]\n",
    "\n",
    "# Calculate the length of the dataset\n",
    "n = len(x)\n",
    "\n",
    "# Check if the number of values in the dataset is odd\n",
    "if n % 2 != 0:\n",
    "    # If the number of values is odd, calculate the median as\n",
    "    # the middle value of the sorted dataset\n",
    "    median = sorted(x)[round(0.5 * (n - 1))]\n",
    "else:\n",
    "    # If the number of values is even, calculate the median\n",
    "    # as the average of the two middle values of the sorted dataset\n",
    "    x_sorted, index = sorted(x), round(0.5 * n)\n",
    "    median = 0.5 * (x_sorted[index - 1] + x_sorted[index])\n",
    "\n",
    "median2 = statistics.median(x)\n",
    "median_low = statistics.median_low(x)\n",
    "median_high = statistics.median_high(x)\n",
    "# Print the result\n",
    "print(median, median2, median_low, median_high)"
   ]
  },
  {
   "attachments": {},
   "cell_type": "markdown",
   "metadata": {},
   "source": [
    "#### Mode\n",
    "\n",
    "The sample mode is the value in the dataset that occurs most frequently. If there isn’t a single such value, then the set is multimodal since it has multiple modal values."
   ]
  },
  {
   "cell_type": "code",
   "execution_count": 34,
   "metadata": {},
   "outputs": [
    {
     "name": "stdout",
     "output_type": "stream",
     "text": [
      "8 ModeResult(mode=array([2]), count=array([2])) [2, 8]\n"
     ]
    }
   ],
   "source": [
    "u = [2, 3, 2, 8, 8, 12]\n",
    "mode = max((u.count(item), item) for item in set(u))[1]\n",
    "\n",
    "mode2 = scipy.stats.mode(u)\n",
    "mode3 = statistics.multimode(u)\n",
    "print(mode, mode2, mode3)"
   ]
  },
  {
   "attachments": {},
   "cell_type": "markdown",
   "metadata": {},
   "source": [
    "### Dispersion"
   ]
  },
  {
   "attachments": {},
   "cell_type": "markdown",
   "metadata": {},
   "source": [
    "#### Range\n",
    "The range of data is the difference between the maximum and minimum element in the dataset.\n",
    "\n"
   ]
  },
  {
   "cell_type": "code",
   "execution_count": 39,
   "metadata": {},
   "outputs": [
    {
     "name": "stdout",
     "output_type": "stream",
     "text": [
      "27.0 27.0\n"
     ]
    }
   ],
   "source": [
    "x = [8.0, 1, 2.5, 4, 28.0]\n",
    "\n",
    "my_range = max(x) - min(x)\n",
    "my_range2 = np.ptp(x)\n",
    "\n",
    "print(my_range, my_range2)"
   ]
  },
  {
   "attachments": {},
   "cell_type": "markdown",
   "metadata": {},
   "source": [
    "#### Variance\n",
    "The sample variance quantifies the spread of the data. It shows numerically how far the data points are from the mean."
   ]
  },
  {
   "cell_type": "code",
   "execution_count": 35,
   "metadata": {},
   "outputs": [
    {
     "name": "stdout",
     "output_type": "stream",
     "text": [
      "16.966666666666665 25.0 16.966666666666665\n"
     ]
    }
   ],
   "source": [
    "x = [2, 3, 2, 8,8, 12]\n",
    "n = len(x)\n",
    "mean = sum(x) / n\n",
    "var = sum((item - mean)**2 for item in x) / (n - 1)\n",
    "var2 = np.var(y, ddof=1)\n",
    "var3 = statistics.variance(x)\n",
    "print(var,var2, var3)"
   ]
  },
  {
   "attachments": {},
   "cell_type": "markdown",
   "metadata": {},
   "source": [
    "#### Standard Deviation\n",
    "\n",
    "The sample standard deviation is another measure of data spread. It’s connected to the sample variance, as standard deviation, 𝑠, is the positive square root of the sample variance.\n",
    "\n",
    "\n"
   ]
  },
  {
   "cell_type": "code",
   "execution_count": 36,
   "metadata": {},
   "outputs": [
    {
     "name": "stdout",
     "output_type": "stream",
     "text": [
      "4.119061381755152 4.119061381755152 4.119061381755152\n"
     ]
    }
   ],
   "source": [
    "std = var**0.5\n",
    "std2 = statistics.stdev(x)\n",
    "std3 = np.std(x, ddof=1)\n",
    "\n",
    "print(std, std2, std3)"
   ]
  },
  {
   "attachments": {},
   "cell_type": "markdown",
   "metadata": {},
   "source": [
    "### Distribution"
   ]
  },
  {
   "attachments": {},
   "cell_type": "markdown",
   "metadata": {},
   "source": [
    "#### Skewness\n",
    "\n",
    " if using Fisher’s definition of kurtosis, a positive kurtosis value indicates a leptokurtic distribution with more frequent extreme values than a normal distribution, while a negative kurtosis value indicates a platykurtic distribution with fewer extreme values than a normal distribution."
   ]
  },
  {
   "cell_type": "code",
   "execution_count": 37,
   "metadata": {},
   "outputs": [
    {
     "name": "stdout",
     "output_type": "stream",
     "text": [
      "1.9470432273905929 1.9470432273905927\n"
     ]
    }
   ],
   "source": [
    "x = [8.0, 1, 2.5, 4, 28.0]\n",
    "n = len(x)\n",
    "# calculate sample mean\n",
    "mean = sum(x) / n\n",
    "# calculate sample variance\n",
    "var = sum((item - mean) ** 2 for item in x) / (n - 1)\n",
    "# calculate sample standard deviation\n",
    "std = var**0.5\n",
    "# calculate sample skewness\n",
    "skew = sum((item - mean) ** 3 for item in x) * n / ((n - 1) * (n - 2) * std**3)\n",
    "skew2 = scipy.stats.skew(x, bias=False)\n",
    "print(skew, skew2)"
   ]
  },
  {
   "attachments": {},
   "cell_type": "markdown",
   "metadata": {},
   "source": [
    "#### Kurtosis \n",
    "Kurtosis is a measure of the “tailedness” of the distribution of a dataset. It indicates how much of the data is concentrated in the tails of the distribution, relative to a normal distribution. \n",
    "\n",
    "If using Fisher’s definition of kurtosis, a positive kurtosis value indicates a leptokurtic distribution with more frequent extreme values than a normal distribution, while a negative kurtosis value indicates a platykurtic distribution with fewer extreme values than a normal distribution."
   ]
  },
  {
   "cell_type": "code",
   "execution_count": 49,
   "metadata": {},
   "outputs": [
    {
     "name": "stdout",
     "output_type": "stream",
     "text": [
      "Kurtosis of x: -0.030495095281138695\n"
     ]
    }
   ],
   "source": [
    "# dataset\n",
    "x = [8.0, 1, 2.5, 4, 28.0]\n",
    "\n",
    "# calculate the kurtosis of x\n",
    "kurt = scipy.stats.kurtosis(x)\n",
    "\n",
    "print(f\"Kurtosis of x: {kurt}\")"
   ]
  },
  {
   "attachments": {},
   "cell_type": "markdown",
   "metadata": {},
   "source": [
    "#### Percentiles\n",
    "\n",
    "A percentile is a measure that indicates the value below which a given percentage of the data in a dataset falls. For example, the 25th percentile is the value below which 25% of the data falls."
   ]
  },
  {
   "cell_type": "code",
   "execution_count": 38,
   "metadata": {},
   "outputs": [
    {
     "name": "stdout",
     "output_type": "stream",
     "text": [
      "25th percentile: 2.5\n",
      "50th percentile: 4.0\n",
      "75th percentile: 8.0\n"
     ]
    }
   ],
   "source": [
    "x = [8.0, 1, 2.5, 4, 28.0]\n",
    "\n",
    "# calculate the 25th percentile\n",
    "p25 = np.percentile(x, 25)\n",
    "\n",
    "# calculate the 50th percentile (median)\n",
    "p50 = np.percentile(x, 50)\n",
    "\n",
    "# calculate the 75th percentile\n",
    "p75 = np.percentile(x, 75)\n",
    "\n",
    "print(f\"25th percentile: {p25}\")\n",
    "print(f\"50th percentile: {p50}\")\n",
    "print(f\"75th percentile: {p75}\")"
   ]
  },
  {
   "attachments": {},
   "cell_type": "markdown",
   "metadata": {},
   "source": [
    "### Joint Variability "
   ]
  },
  {
   "attachments": {},
   "cell_type": "markdown",
   "metadata": {},
   "source": [
    "#### Covariance \n",
    "\n",
    "Covariance is a measure of the joint variability between two random variables. It indicates the degree to which two variables change together. If the covariance between two variables is positive, it means that the two variables tend to increase or decrease together. If the covariance is negative, it means that when one variable increases, the other tends to decrease, and vice versa."
   ]
  },
  {
   "cell_type": "code",
   "execution_count": 40,
   "metadata": {},
   "outputs": [
    {
     "name": "stdout",
     "output_type": "stream",
     "text": [
      "Covariance between x and y: 52.005\n"
     ]
    }
   ],
   "source": [
    "x = [8.0, 1, 2.5, 4, 28.0]\n",
    "y = [0.5, 4, 2.2, 3.7, 14]\n",
    "\n",
    "# calculate the covariance between x and y\n",
    "cov_xy = np.cov(x, y)[0][1]\n",
    "\n",
    "print(f\"Covariance between x and y: {cov_xy}\")"
   ]
  },
  {
   "attachments": {},
   "cell_type": "markdown",
   "metadata": {},
   "source": [
    "#### Correlation Coefficient\n",
    "\n",
    "A correlation coefficient is a standardized measure of the strength and direction of the linear relationship between two variables. It ranges from -1 to 1, with -1 indicating a perfect negative linear relationship, 0 indicating no linear relationship, and 1 indicating a perfect positive linear relationship.\n",
    "\n",
    "The most commonly used correlation coefficient is the Pearson correlation coefficient, which measures the linear relationship between two continuous variables. Another commonly used correlation coefficient is the Spearman correlation coefficient, which measures the monotonic relationship between two variables, whether the relationship is linear or not.\n",
    "\n"
   ]
  },
  {
   "cell_type": "code",
   "execution_count": 41,
   "metadata": {},
   "outputs": [
    {
     "name": "stdout",
     "output_type": "stream",
     "text": [
      "Correlation coefficient between x and y: 0.8865997495580011\n"
     ]
    }
   ],
   "source": [
    "x = [8.0, 1, 2.5, 4, 28.0]\n",
    "y = [0.5, 4, 2.2, 3.7, 14]\n",
    "\n",
    "# calculate the correlation coefficient between x and y\n",
    "corr_xy = np.corrcoef(x, y)[0][1]\n",
    "\n",
    "print(f\"Correlation coefficient between x and y: {corr_xy}\")"
   ]
  },
  {
   "attachments": {},
   "cell_type": "markdown",
   "metadata": {},
   "source": [
    "### Analysis Types\n",
    "\n",
    "It involves summarizing and describing the main characteristics of the variable, such as its central tendency (mean, median, mode), dispersion (range, variance, standard deviation), and distribution (skewness, kurtosis).\n",
    "\n",
    "- **univariate:** one variable\n",
    "- **bivariate:** two variables\n",
    "- **multivariate:** three or mare variables \n",
    "\n"
   ]
  },
  {
   "attachments": {},
   "cell_type": "markdown",
   "metadata": {},
   "source": [
    "#### Univariate"
   ]
  },
  {
   "cell_type": "code",
   "execution_count": 42,
   "metadata": {},
   "outputs": [
    {
     "name": "stdout",
     "output_type": "stream",
     "text": [
      "Mean: 40.2\n",
      "Median: 41.5\n",
      "Mode: 12\n",
      "Standard Deviation: 15.984714921171134\n"
     ]
    }
   ],
   "source": [
    "# Create a sample data set\n",
    "data = {'ages': [23, 45, 12, 34, 56, 32, 44, 67, 39, 50]}\n",
    "df = pd.DataFrame(data)\n",
    "\n",
    "# Calculate descriptive statistics\n",
    "mean = df['ages'].mean()\n",
    "median = df['ages'].median()\n",
    "mode = df['ages'].mode()\n",
    "std_dev = df['ages'].std()\n",
    "\n",
    "# Print results\n",
    "print('Mean:', mean)\n",
    "print('Median:', median)\n",
    "print('Mode:', mode[0])\n",
    "print('Standard Deviation:', std_dev)"
   ]
  },
  {
   "attachments": {},
   "cell_type": "markdown",
   "metadata": {},
   "source": [
    "#### Bivariate"
   ]
  },
  {
   "cell_type": "code",
   "execution_count": 44,
   "metadata": {},
   "outputs": [
    {
     "data": {
      "image/png": "[encoded data removed]",
      "text/plain": [
       "<Figure size 432x288 with 1 Axes>"
      ]
     },
     "metadata": {
      "needs_background": "light"
     },
     "output_type": "display_data"
    },
    {
     "name": "stdout",
     "output_type": "stream",
     "text": [
      "Correlation coefficient between x and y: 0.8865997495580011\n"
     ]
    }
   ],
   "source": [
    "x = [8.0, 1, 2.5, 4, 28.0]\n",
    "y = [0.5, 4, 2.2, 3.7, 14]\n",
    "\n",
    "# create a scatter plot\n",
    "plt.scatter(x, y)\n",
    "plt.xlabel('x')\n",
    "plt.ylabel('y')\n",
    "plt.show()\n",
    "\n",
    "# calculate the correlation coefficient between x and y\n",
    "corr_xy = np.corrcoef(x, y)[0][1]\n",
    "\n",
    "print(f\"Correlation coefficient between x and y: {corr_xy}\")"
   ]
  },
  {
   "attachments": {},
   "cell_type": "markdown",
   "metadata": {},
   "source": [
    "#### Multivariate "
   ]
  },
  {
   "cell_type": "code",
   "execution_count": 48,
   "metadata": {},
   "outputs": [
    {
     "data": {
      "image/png": "[encoded data removed]",
      "text/plain": [
       "<Figure size 540x540 with 12 Axes>"
      ]
     },
     "metadata": {
      "needs_background": "light"
     },
     "output_type": "display_data"
    },
    {
     "name": "stdout",
     "output_type": "stream",
     "text": [
      "Correlation matrix:\n",
      "          x         y         z\n",
      "x  1.000000  0.886600 -0.477015\n",
      "y  0.886600  1.000000 -0.711696\n",
      "z -0.477015 -0.711696  1.000000\n"
     ]
    }
   ],
   "source": [
    "# create a dataset with three variables\n",
    "data = {'x': [8.0, 1, 2.5, 4, 28.0],\n",
    "        'y': [0.5, 4, 2.2, 3.7, 14],\n",
    "        'z': [1, 0, 1, 1, 0]}\n",
    "df = pd.DataFrame(data)\n",
    "\n",
    "# create a scatter plot matrix\n",
    "sns.pairplot(df)\n",
    "plt.show()\n",
    "\n",
    "# calculate the correlation matrix\n",
    "corr_matrix = df.corr()\n",
    "\n",
    "print(\"Correlation matrix:\")\n",
    "print(corr_matrix)"
   ]
  },
  {
   "attachments": {},
   "cell_type": "markdown",
   "metadata": {},
   "source": [
    "### Outliers\n",
    "- Natural variation in data\n",
    "- Change in the behaviors of the observed system\n",
    "- Errors in data collection"
   ]
  },
  {
   "attachments": {},
   "cell_type": "markdown",
   "metadata": {},
   "source": [
    "#### Z-score\n",
    "\n",
    "A Z-score is a statistical measure that indicates how many standard deviations a data point is from the mean of the dataset. It is calculated by subtracting the mean from the data point and then dividing the result by the standard deviation of the dataset."
   ]
  },
  {
   "cell_type": "code",
   "execution_count": 55,
   "metadata": {},
   "outputs": [
    {
     "name": "stdout",
     "output_type": "stream",
     "text": [
      "[100]\n"
     ]
    }
   ],
   "source": [
    "data = [1, 2, 3, 4, 5, 100]\n",
    "\n",
    "# Calculate the mean and standard deviation of the data\n",
    "mean = np.mean(data)\n",
    "std_dev = np.std(data)\n",
    "\n",
    "# Define a threshold for identifying an outlier\n",
    "threshold = 2\n",
    "\n",
    "# Create an empty list to store the outliers\n",
    "outliers = []\n",
    "\n",
    "# Loop through the data\n",
    "for i in data:\n",
    "    # Calculate the Z-score for each data point\n",
    "    z_score = (i - mean) / std_dev\n",
    "\n",
    "    # Identify data points with a Z-score greater than the threshold as outliers\n",
    "    if np.abs(z_score) > threshold:\n",
    "        outliers.append(i)\n",
    "\n",
    "# Print the list of identified outliers\n",
    "print(outliers)"
   ]
  }
 ],
 "metadata": {
  "kernelspec": {
   "display_name": "base",
   "language": "python",
   "name": "python3"
  },
  "language_info": {
   "codemirror_mode": {
    "name": "ipython",
    "version": 3
   },
   "file_extension": ".py",
   "mimetype": "text/x-python",
   "name": "python",
   "nbconvert_exporter": "python",
   "pygments_lexer": "ipython3",
   "version": "3.9.7"
  },
  "orig_nbformat": 4
 },
 "nbformat": 4,
 "nbformat_minor": 2
}
