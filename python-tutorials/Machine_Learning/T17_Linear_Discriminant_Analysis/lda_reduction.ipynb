{
 "cells": [
  {
   "cell_type": "code",
   "execution_count": null,
   "metadata": {},
   "outputs": [],
   "source": [
    "import matplotlib.pyplot as plt\n",
    "from sklearn.datasets import load_iris\n",
    "from sklearn.decomposition import PCA\n",
    "from sklearn.discriminant_analysis import LinearDiscriminantAnalysis as LDA\n",
    "from sklearn.preprocessing import StandardScaler"
   ]
  },
  {
   "cell_type": "code",
   "execution_count": null,
   "metadata": {},
   "outputs": [],
   "source": [
    "# Load the Iris dataset\n",
    "iris = load_iris()\n",
    "X = iris.data\n",
    "y = iris.target\n",
    "\n",
    "# Standardize the dataset\n",
    "scaler = StandardScaler()\n",
    "X_std = scaler.fit_transform(X)"
   ]
  },
  {
   "cell_type": "code",
   "execution_count": null,
   "metadata": {},
   "outputs": [],
   "source": [
    "# Apply LDA for dimensionality reduction\n",
    "lda = LDA(n_components=2)  # Reduce to 2 dimensions\n",
    "X_lda = lda.fit_transform(X_std, y)\n",
    "\n",
    "# Apply PCA for comparison\n",
    "pca = PCA(n_components=2)\n",
    "X_pca = pca.fit_transform(X_std)"
   ]
  },
  {
   "cell_type": "code",
   "execution_count": null,
   "metadata": {},
   "outputs": [],
   "source": [
    "# Visualize the reduced 2D space using LDA\n",
    "plt.figure(figsize=(14, 6))\n",
    "\n",
    "# LDA Plot\n",
    "plt.subplot(1, 2, 1)\n",
    "for i, target_name in enumerate(iris.target_names):\n",
    "    plt.scatter(X_lda[y == i, 0], X_lda[y == i, 1], label=target_name)\n",
    "plt.title(\"LDA: Iris data projection onto 2D\")\n",
    "plt.xlabel(\"LD1\")\n",
    "plt.ylabel(\"LD2\")\n",
    "plt.legend(loc=\"best\")\n",
    "\n",
    "# PCA Plot\n",
    "plt.subplot(1, 2, 2)\n",
    "for i, target_name in enumerate(iris.target_names):\n",
    "    plt.scatter(X_pca[y == i, 0], X_pca[y == i, 1], label=target_name)\n",
    "plt.title(\"PCA: Iris data projection onto 2D\")\n",
    "plt.xlabel(\"PC1\")\n",
    "plt.ylabel(\"PC2\")\n",
    "plt.legend(loc=\"best\")\n",
    "\n",
    "plt.show()\n",
    "\n",
    "# Step 4: Evaluate the effect using explained variance for PCA and LDA\n",
    "explained_variance_lda = lda.explained_variance_ratio_\n",
    "explained_variance_pca = pca.explained_variance_ratio_\n",
    "\n",
    "print(\"LDA Explained Variance Ratio:\", explained_variance_lda)\n",
    "print(\"PCA Explained Variance Ratio:\", explained_variance_pca)"
   ]
  }
 ],
 "metadata": {
  "kernelspec": {
   "display_name": "machine-learning-ktax2Mo_-py3.10",
   "language": "python",
   "name": "python3"
  },
  "language_info": {
   "codemirror_mode": {
    "name": "ipython",
    "version": 3
   },
   "file_extension": ".py",
   "mimetype": "text/x-python",
   "name": "python",
   "nbconvert_exporter": "python",
   "pygments_lexer": "ipython3",
   "version": "3.10.12"
  }
 },
 "nbformat": 4,
 "nbformat_minor": 2
}
