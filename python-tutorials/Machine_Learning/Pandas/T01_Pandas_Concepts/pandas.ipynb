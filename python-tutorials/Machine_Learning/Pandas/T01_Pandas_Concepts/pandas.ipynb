{
 "cells": [
  {
   "attachments": {},
   "cell_type": "markdown",
   "metadata": {},
   "source": [
    "<h1>Pandas</h1>\n",
    "<h3>What is a dataframe?</h3>\n",
    "<p>A dataframe is a two-dimensional labelled data structure with columns of potentially different types.</p>\n",
    "<ul>\n",
    "    <li>Data</li>\n",
    "    <li>Index</li>\n",
    "    <li>Columns</li>\n",
    "</ul>"
   ]
  },
  {
   "cell_type": "code",
   "execution_count": 2,
   "metadata": {},
   "outputs": [],
   "source": [
    "import numpy as np\n",
    "import pandas as pd"
   ]
  },
  {
   "attachments": {},
   "cell_type": "markdown",
   "metadata": {},
   "source": [
    "<h3>Structured arrays</h3>"
   ]
  },
  {
   "cell_type": "code",
   "execution_count": 25,
   "metadata": {},
   "outputs": [
    {
     "name": "stdout",
     "output_type": "stream",
     "text": [
      "Structured array: [(1, 1.) (1, 1.) (1, 1.)]\n",
      "Structured array int: [1 1 1]\n",
      "Structured array float: [1. 1. 1.]\n",
      "Record array int: [1 1 1]\n",
      "Record array float: [1. 1. 1.]\n"
     ]
    }
   ],
   "source": [
    "# A structured array\n",
    "my_array = np.ones(3, dtype=([(\"foo\", int), (\"bar\", float)]))\n",
    "\n",
    "# Print the structured array\n",
    "print(f\"Structured array: {my_array}\")\n",
    "print(f\"Structured array int: {my_array['foo']}\")\n",
    "print(f\"Structured array float: {my_array['bar']}\")\n",
    "\n",
    "# A record array\n",
    "my_array2 = my_array.view(np.recarray)\n",
    "# Print the record array\n",
    "print(f'Record array int: {my_array2.foo}')\n",
    "print(f'Record array float: {my_array2.bar}')"
   ]
  },
  {
   "attachments": {},
   "cell_type": "markdown",
   "metadata": {},
   "source": [
    "<h3>Pandas series<h3>\n",
    "\n",
    "<h5>One-dimensinal labeled array</h5>\n",
    "\n",
    "<grid-container>\n",
    "  <grid-item class='label'>Label</grid-item>\n",
    "  <grid-item class='label'>Label</grid-item>\n",
    "  <grid-item class='label'>Label</grid-item>\n",
    "  <grid-item>Data</grid-item>\n",
    "  <grid-item>Data</grid-item>\n",
    "  <grid-item>Data</grid-item>\n",
    "</grid-container>\n",
    "\n",
    "<style>\n",
    "  grid-container {\n",
    "    display: grid;\n",
    "    grid-template-columns: 1fr 1fr 1fr;\n",
    "    grid-auto-rows: 75px;\n",
    "    grid-gap: 5px;\n",
    "    justify-content: center;\n",
    "    align-content: center;\n",
    "    text-align: center;\n",
    "}\n",
    "\n",
    "  grid-container {\n",
    "    /* background-color: deepskyblue; */\n",
    "    border: 1px solid #bbb;\n",
    "    padding: 10px;\n",
    "  }\n",
    "  grid-item {\n",
    "    background-color: deepskyblue;\n",
    "    border: 1px solid #ccc;\n",
    "  }\n",
    "  .label{\n",
    "    padding-bottom: 10px;\n",
    "    background-color: grey;\n",
    "  }\n",
    "</style>"
   ]
  },
  {
   "cell_type": "code",
   "execution_count": 31,
   "metadata": {},
   "outputs": [
    {
     "name": "stdout",
     "output_type": "stream",
     "text": [
      "0    a\n",
      "1    b\n",
      "2    c\n",
      "3    d\n",
      "4    e\n",
      "dtype: object\n",
      "\n",
      "Pandas series with modified index\n",
      "1000    a\n",
      "1001    b\n",
      "1002    c\n",
      "1003    d\n",
      "1004    e\n",
      "dtype: object\n"
     ]
    }
   ],
   "source": [
    "# numpy array\n",
    "data = np.array(['a', 'b', 'c', 'd', 'e'])\n",
    "\n",
    "# creating series\n",
    "s = pd.Series(data)\n",
    "print(s)\n",
    "\n",
    "# creating modified index series\n",
    "print('\\nPandas series with modified index')\n",
    "s = pd.Series(data, index =[1000, 1001, 1002, 1003, 1004])\n",
    "print(s)"
   ]
  },
  {
   "attachments": {},
   "cell_type": "markdown",
   "metadata": {},
   "source": [
    "<h3>Pandas Dataframe<h3>\n",
    "\n",
    "<h5>Two-dimensinal labeled array</h5>\n",
    "\n",
    "<grid-container>\n",
    "  <grid-item class='label' style=\"opacity: 0\"></grid-item>\n",
    "  <grid-item class='label'>Label</grid-item>\n",
    "  <grid-item class='label'>Label</grid-item>\n",
    "  <grid-item class='label'>Label</grid-item>\n",
    "  <grid-item>Data</grid-item>\n",
    "  <grid-item>Data</grid-item>\n",
    "  <grid-item class='label'>Label</grid-item>\n",
    "  <grid-item>Data</grid-item>\n",
    "  <grid-item>Data</grid-item>\n",
    "</grid-container>\n",
    "\n",
    "<style>\n",
    "  grid-container {\n",
    "    display: grid;\n",
    "    grid-template-columns: 1fr 1fr 1fr;\n",
    "    grid-auto-rows: 75px;\n",
    "    grid-gap: 5px;\n",
    "    justify-content: center;\n",
    "    align-content: center;\n",
    "    text-align: center;\n",
    "}\n",
    "\n",
    "  grid-container {\n",
    "    /* background-color: deepskyblue; */\n",
    "    border: 1px solid #bbb;\n",
    "    padding: 10px;\n",
    "  }\n",
    "  grid-item {\n",
    "    background-color: deepskyblue;\n",
    "    border: 1px solid #ccc;\n",
    "  }\n",
    "  .label{\n",
    "    padding-bottom: 10px;\n",
    "    background-color: grey;\n",
    "  }\n",
    "  .grid-hiderows .item:nth-child(2) {\n",
    "    visibility: hidden;\n",
    "}\n",
    "</style>"
   ]
  },
  {
   "cell_type": "code",
   "execution_count": 41,
   "metadata": {},
   "outputs": [
    {
     "name": "stdout",
     "output_type": "stream",
     "text": [
      "data: [['1' '2']\n",
      " ['3' '4']] \n",
      "\n",
      "index: ['Row1' 'Row2'] \n",
      "\n",
      "Columns: ['Col1' 'Col2'] \n",
      "\n",
      "     Col1 Col2\n",
      "Row1    1    2\n",
      "Row2    3    4\n"
     ]
    },
    {
     "data": {
      "text/html": [
       "<div>\n",
       "<style scoped>\n",
       "    .dataframe tbody tr th:only-of-type {\n",
       "        vertical-align: middle;\n",
       "    }\n",
       "\n",
       "    .dataframe tbody tr th {\n",
       "        vertical-align: top;\n",
       "    }\n",
       "\n",
       "    .dataframe thead th {\n",
       "        text-align: right;\n",
       "    }\n",
       "</style>\n",
       "<table border=\"1\" class=\"dataframe\">\n",
       "  <thead>\n",
       "    <tr style=\"text-align: right;\">\n",
       "      <th></th>\n",
       "      <th>Col1</th>\n",
       "      <th>Col2</th>\n",
       "    </tr>\n",
       "  </thead>\n",
       "  <tbody>\n",
       "    <tr>\n",
       "      <th>Row1</th>\n",
       "      <td>1</td>\n",
       "      <td>2</td>\n",
       "    </tr>\n",
       "    <tr>\n",
       "      <th>Row2</th>\n",
       "      <td>3</td>\n",
       "      <td>4</td>\n",
       "    </tr>\n",
       "  </tbody>\n",
       "</table>\n",
       "</div>"
      ],
      "text/plain": [
       "     Col1 Col2\n",
       "Row1    1    2\n",
       "Row2    3    4"
      ]
     },
     "execution_count": 41,
     "metadata": {},
     "output_type": "execute_result"
    }
   ],
   "source": [
    "data = np.array([['','Col1','Col2'],\n",
    "                ['Row1',1,2],\n",
    "                ['Row2',3,4]])\n",
    "\n",
    "# Start from second list and select all elements but first\n",
    "print(f'data: {data[1:,1:]} \\n')  \n",
    "# Start from second list and select first elements only\n",
    "print(f'index: {data[1:,0]} \\n')\n",
    "# Select first list and all elements after first \n",
    "print(f'Columns: {data[0,1:]} \\n')\n",
    "\n",
    "print(pd.DataFrame(data=data[1:,1:],\n",
    "                  index=data[1:,0],\n",
    "                  columns=data[0,1:]))\n",
    "\n",
    "pd.DataFrame(data=data[1:,1:],\n",
    "                  index=data[1:,0],\n",
    "                  columns=data[0,1:])"
   ]
  },
  {
   "cell_type": "code",
   "execution_count": 45,
   "metadata": {},
   "outputs": [
    {
     "name": "stdout",
     "output_type": "stream",
     "text": [
      "   0  1  2\n",
      "0  1  2  3\n",
      "1  4  5  6\n",
      "\n",
      "   1  2  3\n",
      "0  1  1  2\n",
      "1  3  2  4\n",
      "\n",
      "   A\n",
      "0  4\n",
      "1  5\n",
      "2  6\n",
      "3  7\n",
      "\n",
      "                         0\n",
      "Belgium           Brussels\n",
      "India            New Delhi\n",
      "United Kingdom      London\n",
      "United States   Washington\n"
     ]
    }
   ],
   "source": [
    "# Take a 2D array as input to your DataFrame\n",
    "# Labels auto generated\n",
    "my_2darray = np.array([[1, 2, 3], [4, 5, 6]])\n",
    "print(pd.DataFrame(my_2darray))\n",
    "print()\n",
    "\n",
    "# Take a dictionary as input to your DataFrame\n",
    "my_dict = {1: [\"1\", \"3\"], 2: [\"1\", \"2\"], 3: [\"2\", \"4\"]}\n",
    "print(pd.DataFrame(my_dict))\n",
    "print()\n",
    "\n",
    "# Take a DataFrame as input to your DataFrame\n",
    "my_df = pd.DataFrame(data=[4, 5, 6, 7], index=range(0, 4), columns=[\"A\"])\n",
    "print(pd.DataFrame(my_df))\n",
    "print()\n",
    "\n",
    "# Take a Series as input to your DataFrame\n",
    "my_series = pd.Series(\n",
    "    {\n",
    "        \"Belgium\": \"Brussels\",\n",
    "        \"India\": \"New Delhi\",\n",
    "        \"United Kingdom\": \"London\",\n",
    "        \"United States\": \"Washington\",\n",
    "    }\n",
    ")\n",
    "print(pd.DataFrame(my_series))"
   ]
  },
  {
   "attachments": {},
   "cell_type": "markdown",
   "metadata": {},
   "source": [
    "<h3>Dataframe Operations</h3>"
   ]
  },
  {
   "cell_type": "code",
   "execution_count": 57,
   "metadata": {},
   "outputs": [
    {
     "data": {
      "text/html": [
       "<div>\n",
       "<style scoped>\n",
       "    .dataframe tbody tr th:only-of-type {\n",
       "        vertical-align: middle;\n",
       "    }\n",
       "\n",
       "    .dataframe tbody tr th {\n",
       "        vertical-align: top;\n",
       "    }\n",
       "\n",
       "    .dataframe thead th {\n",
       "        text-align: right;\n",
       "    }\n",
       "</style>\n",
       "<table border=\"1\" class=\"dataframe\">\n",
       "  <thead>\n",
       "    <tr style=\"text-align: right;\">\n",
       "      <th></th>\n",
       "      <th>0</th>\n",
       "    </tr>\n",
       "  </thead>\n",
       "  <tbody>\n",
       "    <tr>\n",
       "      <th>Belgium</th>\n",
       "      <td>Brussels</td>\n",
       "    </tr>\n",
       "    <tr>\n",
       "      <th>India</th>\n",
       "      <td>New Delhi</td>\n",
       "    </tr>\n",
       "    <tr>\n",
       "      <th>United Kingdom</th>\n",
       "      <td>London</td>\n",
       "    </tr>\n",
       "    <tr>\n",
       "      <th>United States</th>\n",
       "      <td>Washington</td>\n",
       "    </tr>\n",
       "  </tbody>\n",
       "</table>\n",
       "</div>"
      ],
      "text/plain": [
       "                         0\n",
       "Belgium           Brussels\n",
       "India            New Delhi\n",
       "United Kingdom      London\n",
       "United States   Washington"
      ]
     },
     "execution_count": 57,
     "metadata": {},
     "output_type": "execute_result"
    }
   ],
   "source": [
    "df = pd.DataFrame(pd.Series(\n",
    "    {\n",
    "        \"Belgium\": \"Brussels\",\n",
    "        \"India\": \"New Delhi\",\n",
    "        \"United Kingdom\": \"London\",\n",
    "        \"United States\": \"Washington\",\n",
    "    }))\n",
    "df"
   ]
  },
  {
   "cell_type": "code",
   "execution_count": 53,
   "metadata": {},
   "outputs": [
    {
     "data": {
      "text/plain": [
       "(4, 1)"
      ]
     },
     "execution_count": 53,
     "metadata": {},
     "output_type": "execute_result"
    }
   ],
   "source": [
    "df.shape"
   ]
  },
  {
   "cell_type": "code",
   "execution_count": 54,
   "metadata": {},
   "outputs": [
    {
     "data": {
      "text/plain": [
       "4"
      ]
     },
     "execution_count": 54,
     "metadata": {},
     "output_type": "execute_result"
    }
   ],
   "source": [
    "len(df)"
   ]
  },
  {
   "cell_type": "code",
   "execution_count": 55,
   "metadata": {},
   "outputs": [
    {
     "data": {
      "text/plain": [
       "Index(['Belgium', 'India', 'United Kingdom', 'United States'], dtype='object')"
      ]
     },
     "execution_count": 55,
     "metadata": {},
     "output_type": "execute_result"
    }
   ],
   "source": [
    "df.index"
   ]
  },
  {
   "cell_type": "code",
   "execution_count": 56,
   "metadata": {},
   "outputs": [
    {
     "data": {
      "text/plain": [
       "RangeIndex(start=0, stop=1, step=1)"
      ]
     },
     "execution_count": 56,
     "metadata": {},
     "output_type": "execute_result"
    }
   ],
   "source": [
    "df.columns"
   ]
  },
  {
   "cell_type": "code",
   "execution_count": 58,
   "metadata": {},
   "outputs": [
    {
     "data": {
      "text/html": [
       "<div>\n",
       "<style scoped>\n",
       "    .dataframe tbody tr th:only-of-type {\n",
       "        vertical-align: middle;\n",
       "    }\n",
       "\n",
       "    .dataframe tbody tr th {\n",
       "        vertical-align: top;\n",
       "    }\n",
       "\n",
       "    .dataframe thead th {\n",
       "        text-align: right;\n",
       "    }\n",
       "</style>\n",
       "<table border=\"1\" class=\"dataframe\">\n",
       "  <thead>\n",
       "    <tr style=\"text-align: right;\">\n",
       "      <th></th>\n",
       "      <th>Belgium</th>\n",
       "      <th>India</th>\n",
       "      <th>United Kingdom</th>\n",
       "      <th>United States</th>\n",
       "    </tr>\n",
       "  </thead>\n",
       "  <tbody>\n",
       "    <tr>\n",
       "      <th>0</th>\n",
       "      <td>Brussels</td>\n",
       "      <td>New Delhi</td>\n",
       "      <td>London</td>\n",
       "      <td>Washington</td>\n",
       "    </tr>\n",
       "  </tbody>\n",
       "</table>\n",
       "</div>"
      ],
      "text/plain": [
       "    Belgium      India United Kingdom United States\n",
       "0  Brussels  New Delhi         London    Washington"
      ]
     },
     "execution_count": 58,
     "metadata": {},
     "output_type": "execute_result"
    }
   ],
   "source": [
    "df.T"
   ]
  },
  {
   "cell_type": "code",
   "execution_count": 60,
   "metadata": {},
   "outputs": [
    {
     "data": {
      "text/plain": [
       "RangeIndex(start=0, stop=1, step=1)"
      ]
     },
     "execution_count": 60,
     "metadata": {},
     "output_type": "execute_result"
    }
   ],
   "source": [
    "df.T.index"
   ]
  },
  {
   "cell_type": "code",
   "execution_count": 63,
   "metadata": {},
   "outputs": [
    {
     "data": {
      "text/plain": [
       "Index(['Belgium', 'India', 'United Kingdom', 'United States'], dtype='object')"
      ]
     },
     "execution_count": 63,
     "metadata": {},
     "output_type": "execute_result"
    }
   ],
   "source": [
    "df.T.columns"
   ]
  },
  {
   "cell_type": "code",
   "execution_count": 64,
   "metadata": {},
   "outputs": [
    {
     "data": {
      "text/html": [
       "<div>\n",
       "<style scoped>\n",
       "    .dataframe tbody tr th:only-of-type {\n",
       "        vertical-align: middle;\n",
       "    }\n",
       "\n",
       "    .dataframe tbody tr th {\n",
       "        vertical-align: top;\n",
       "    }\n",
       "\n",
       "    .dataframe thead th {\n",
       "        text-align: right;\n",
       "    }\n",
       "</style>\n",
       "<table border=\"1\" class=\"dataframe\">\n",
       "  <thead>\n",
       "    <tr style=\"text-align: right;\">\n",
       "      <th></th>\n",
       "      <th>A</th>\n",
       "      <th>B</th>\n",
       "      <th>C</th>\n",
       "    </tr>\n",
       "  </thead>\n",
       "  <tbody>\n",
       "    <tr>\n",
       "      <th>0</th>\n",
       "      <td>1</td>\n",
       "      <td>2</td>\n",
       "      <td>3</td>\n",
       "    </tr>\n",
       "    <tr>\n",
       "      <th>1</th>\n",
       "      <td>4</td>\n",
       "      <td>5</td>\n",
       "      <td>6</td>\n",
       "    </tr>\n",
       "    <tr>\n",
       "      <th>2</th>\n",
       "      <td>7</td>\n",
       "      <td>8</td>\n",
       "      <td>9</td>\n",
       "    </tr>\n",
       "  </tbody>\n",
       "</table>\n",
       "</div>"
      ],
      "text/plain": [
       "   A  B  C\n",
       "0  1  2  3\n",
       "1  4  5  6\n",
       "2  7  8  9"
      ]
     },
     "execution_count": 64,
     "metadata": {},
     "output_type": "execute_result"
    }
   ],
   "source": [
    "df = pd.DataFrame({\"A\":[1,4,7], \"B\":[2,5,8], \"C\":[3,6,9]})\n",
    "df"
   ]
  },
  {
   "attachments": {},
   "cell_type": "markdown",
   "metadata": {},
   "source": [
    "<h3>Indexing a dataframe<h3>"
   ]
  },
  {
   "cell_type": "code",
   "execution_count": 66,
   "metadata": {},
   "outputs": [
    {
     "name": "stdout",
     "output_type": "stream",
     "text": [
      "Using iloc: 1\n",
      "Using loc: 1\n",
      "Using at: 1\n",
      "Using iat: 1\n"
     ]
    }
   ],
   "source": [
    "# Using `iloc[]`\n",
    "print(f\"Using iloc: {df.iloc[0][0]}\")\n",
    "\n",
    "# Using `loc[]`\n",
    "print(f\"Using loc: {df.loc[0]['A']}\")\n",
    "\n",
    "# Using `at[]`\n",
    "print(f\"Using at: {df.at[0,'A']}\")\n",
    "\n",
    "# Using `iat[]`\n",
    "print(f\"Using iat: {df.iat[0,0]}\")"
   ]
  },
  {
   "cell_type": "code",
   "execution_count": 68,
   "metadata": {},
   "outputs": [
    {
     "name": "stdout",
     "output_type": "stream",
     "text": [
      "A    1\n",
      "B    2\n",
      "C    3\n",
      "Name: 0, dtype: int64\n",
      "0    1\n",
      "1    4\n",
      "2    7\n",
      "Name: A, dtype: int64\n"
     ]
    }
   ],
   "source": [
    "# Use `iloc[]` to select row `0`\n",
    "print(df.iloc[0])\n",
    "\n",
    "# Use `loc[]` to select column `'A'`\n",
    "print(df.loc[:,'A'])"
   ]
  },
  {
   "attachments": {},
   "cell_type": "markdown",
   "metadata": {},
   "source": [
    "<h3>Changing index</h3>"
   ]
  },
  {
   "cell_type": "code",
   "execution_count": 69,
   "metadata": {},
   "outputs": [
    {
     "name": "stdout",
     "output_type": "stream",
     "text": [
      "   A  B  C\n",
      "0  1  2  3\n",
      "1  4  5  6\n",
      "2  7  8  9\n"
     ]
    },
    {
     "data": {
      "text/html": [
       "<div>\n",
       "<style scoped>\n",
       "    .dataframe tbody tr th:only-of-type {\n",
       "        vertical-align: middle;\n",
       "    }\n",
       "\n",
       "    .dataframe tbody tr th {\n",
       "        vertical-align: top;\n",
       "    }\n",
       "\n",
       "    .dataframe thead th {\n",
       "        text-align: right;\n",
       "    }\n",
       "</style>\n",
       "<table border=\"1\" class=\"dataframe\">\n",
       "  <thead>\n",
       "    <tr style=\"text-align: right;\">\n",
       "      <th></th>\n",
       "      <th>A</th>\n",
       "      <th>B</th>\n",
       "    </tr>\n",
       "    <tr>\n",
       "      <th>C</th>\n",
       "      <th></th>\n",
       "      <th></th>\n",
       "    </tr>\n",
       "  </thead>\n",
       "  <tbody>\n",
       "    <tr>\n",
       "      <th>3</th>\n",
       "      <td>1</td>\n",
       "      <td>2</td>\n",
       "    </tr>\n",
       "    <tr>\n",
       "      <th>6</th>\n",
       "      <td>4</td>\n",
       "      <td>5</td>\n",
       "    </tr>\n",
       "    <tr>\n",
       "      <th>9</th>\n",
       "      <td>7</td>\n",
       "      <td>8</td>\n",
       "    </tr>\n",
       "  </tbody>\n",
       "</table>\n",
       "</div>"
      ],
      "text/plain": [
       "   A  B\n",
       "C      \n",
       "3  1  2\n",
       "6  4  5\n",
       "9  7  8"
      ]
     },
     "execution_count": 69,
     "metadata": {},
     "output_type": "execute_result"
    }
   ],
   "source": [
    "# Print out your DataFrame `df` to check it out\n",
    "print(df)\n",
    "\n",
    "# Set 'C' as the index of your DataFrame\n",
    "df.set_index('C')"
   ]
  }
 ],
 "metadata": {
  "kernelspec": {
   "display_name": "base",
   "language": "python",
   "name": "python3"
  },
  "language_info": {
   "name": "python",
   "version": "3.9.7"
  },
  "orig_nbformat": 4
 },
 "nbformat": 4,
 "nbformat_minor": 2
}
