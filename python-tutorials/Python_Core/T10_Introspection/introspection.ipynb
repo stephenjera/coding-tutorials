{
 "cells": [
  {
   "attachments": {},
   "cell_type": "markdown",
   "metadata": {},
   "source": [
    "### Introspection"
   ]
  },
  {
   "attachments": {},
   "cell_type": "markdown",
   "metadata": {},
   "source": [
    "#### Types"
   ]
  },
  {
   "cell_type": "code",
   "execution_count": 10,
   "metadata": {},
   "outputs": [
    {
     "name": "stdout",
     "output_type": "stream",
     "text": [
      "<class 'int'>\n",
      "<class 'int'>\n",
      "<class 'int'>\n",
      "True\n",
      "<class 'type'>\n",
      "<class 'int'>\n",
      "<class 'type'>\n",
      "<class 'type'>\n",
      "True\n",
      "<class 'type'>\n"
     ]
    }
   ],
   "source": [
    "i = 4\n",
    "print(type(i))\n",
    "print(int)\n",
    "print(repr(int))\n",
    "print(type(i) is int)\n",
    "print(type(type(i)))\n",
    "print(i.__class__)\n",
    "print(i.__class__.__class__)\n",
    "print(i.__class__.__class__.__class__)\n",
    "print(issubclass(type, object))\n",
    "print(type(object))"
   ]
  },
  {
   "attachments": {},
   "cell_type": "markdown",
   "metadata": {},
   "source": [
    "#### Objects"
   ]
  },
  {
   "cell_type": "code",
   "execution_count": 11,
   "metadata": {},
   "outputs": [
    {
     "name": "stdout",
     "output_type": "stream",
     "text": [
      "['__abs__', '__add__', '__and__', '__bool__', '__ceil__', '__class__', '__delattr__', '__dir__', '__divmod__', '__doc__', '__eq__', '__float__', '__floor__', '__floordiv__', '__format__', '__ge__', '__getattribute__', '__getnewargs__', '__gt__', '__hash__', '__index__', '__init__', '__init_subclass__', '__int__', '__invert__', '__le__', '__lshift__', '__lt__', '__mod__', '__mul__', '__ne__', '__neg__', '__new__', '__or__', '__pos__', '__pow__', '__radd__', '__rand__', '__rdivmod__', '__reduce__', '__reduce_ex__', '__repr__', '__rfloordiv__', '__rlshift__', '__rmod__', '__rmul__', '__ror__', '__round__', '__rpow__', '__rrshift__', '__rshift__', '__rsub__', '__rtruediv__', '__rxor__', '__setattr__', '__sizeof__', '__str__', '__sub__', '__subclasshook__', '__truediv__', '__trunc__', '__xor__', 'as_integer_ratio', 'bit_length', 'conjugate', 'denominator', 'from_bytes', 'imag', 'numerator', 'real', 'to_bytes']\n"
     ]
    }
   ],
   "source": [
    "# methods are callable attributes\n",
    "a = 42\n",
    "print(dir(a))"
   ]
  },
  {
   "cell_type": "code",
   "execution_count": 13,
   "metadata": {},
   "outputs": [
    {
     "data": {
      "text/plain": [
       "42"
      ]
     },
     "execution_count": 13,
     "metadata": {},
     "output_type": "execute_result"
    }
   ],
   "source": [
    "getattr(a, \"numerator\")"
   ]
  },
  {
   "cell_type": "code",
   "execution_count": 17,
   "metadata": {},
   "outputs": [
    {
     "name": "stdout",
     "output_type": "stream",
     "text": [
      "<built-in method conjugate of int object at 0x0000014625CA6E50>\n",
      "True\n",
      "42\n",
      "builtin_function_or_method\n"
     ]
    }
   ],
   "source": [
    "print(getattr(a, \"conjugate\"))\n",
    "print(callable(getattr(a, \"conjugate\")))\n",
    "print(getattr(a, \"conjugate\")())  # call the function\n",
    "print(a.conjugate.__class__.__name__)"
   ]
  },
  {
   "attachments": {},
   "cell_type": "markdown",
   "metadata": {},
   "source": [
    "#### Scope"
   ]
  },
  {
   "cell_type": "code",
   "execution_count": 18,
   "metadata": {},
   "outputs": [
    {
     "data": {
      "text/plain": [
       "{'__name__': '__main__',\n",
       " '__doc__': 'Automatically created module for IPython interactive environment',\n",
       " '__package__': None,\n",
       " '__loader__': None,\n",
       " '__spec__': None,\n",
       " '__builtin__': <module 'builtins' (built-in)>,\n",
       " '__builtins__': <module 'builtins' (built-in)>,\n",
       " '_ih': ['',\n",
       "  'i = 4\\nprint(type(i))',\n",
       "  'i = 4\\nprint(type(i))\\nprint(int)',\n",
       "  'i = 4\\nprint(type(i))\\nprint(int)\\nprint(repr(int))',\n",
       "  'i = 4\\nprint(type(i))\\nprint(int)\\nprint(repr(int))\\nprint(type(i) is int)',\n",
       "  'i = 4\\nprint(type(i))\\nprint(int)\\nprint(repr(int))\\nprint(type(i) is int)\\nprint(i.__class__)',\n",
       "  'i = 4\\nprint(type(i))\\nprint(int)\\nprint(repr(int))\\nprint(type(i) is int)\\nprint(i.__class__)\\nprint(type(type(i)))',\n",
       "  'i = 4\\nprint(type(i))\\nprint(int)\\nprint(repr(int))\\nprint(type(i) is int)\\nprint(type(type(i)))\\nprint(i.__class__)\\nprint(i.__class__.__class__)\\nprint(i.__class__.__class__.__class__)',\n",
       "  'i = 4\\nprint(type(i))\\nprint(int)\\nprint(repr(int))\\nprint(type(i) is int)\\nprint(type(type(i)))\\nprint(i.__class__)\\nprint(i.__class__.__class__)\\nprint(i.__class__.__class__.__class__)\\nissubclass(type,object)',\n",
       "  'i = 4\\nprint(type(i))\\nprint(int)\\nprint(repr(int))\\nprint(type(i) is int)\\nprint(type(type(i)))\\nprint(i.__class__)\\nprint(i.__class__.__class__)\\nprint(i.__class__.__class__.__class__)\\nissubclass(type,object)\\ntype(object)',\n",
       "  'i = 4\\nprint(type(i))\\nprint(int)\\nprint(repr(int))\\nprint(type(i) is int)\\nprint(type(type(i)))\\nprint(i.__class__)\\nprint(i.__class__.__class__)\\nprint(i.__class__.__class__.__class__)\\nprint(issubclass(type,object))\\nprint(type(object))',\n",
       "  'a = 42\\nprint(dir(a))',\n",
       "  'getattr(a, numerator)',\n",
       "  'getattr(a, \"numerator\")',\n",
       "  'getattr(a, \"conjugate\")',\n",
       "  'print(getattr(a, \"conjugate\"))\\nprint(callable(getattr(a, \"conjugate\")))',\n",
       "  'print(getattr(a, \"conjugate\"))\\nprint(callable(getattr(a, \"conjugate\")))\\nprint(getattr(a, \"conjugate\")())',\n",
       "  'print(getattr(a, \"conjugate\"))\\nprint(callable(getattr(a, \"conjugate\")))\\nprint(getattr(a, \"conjugate\")()) # call the function \\nprint(a.conjugate.__class__.__name__)',\n",
       "  'globals()'],\n",
       " '_oh': {8: True, 9: type, 13: 42, 14: <function int.conjugate>},\n",
       " '_dh': ['c:\\\\Users\\\\Stephen\\\\Documents\\\\GitHub_Repositories\\\\Python-Projects\\\\Tutorials\\\\Python_Core\\\\T10_Introspection'],\n",
       " 'In': ['',\n",
       "  'i = 4\\nprint(type(i))',\n",
       "  'i = 4\\nprint(type(i))\\nprint(int)',\n",
       "  'i = 4\\nprint(type(i))\\nprint(int)\\nprint(repr(int))',\n",
       "  'i = 4\\nprint(type(i))\\nprint(int)\\nprint(repr(int))\\nprint(type(i) is int)',\n",
       "  'i = 4\\nprint(type(i))\\nprint(int)\\nprint(repr(int))\\nprint(type(i) is int)\\nprint(i.__class__)',\n",
       "  'i = 4\\nprint(type(i))\\nprint(int)\\nprint(repr(int))\\nprint(type(i) is int)\\nprint(i.__class__)\\nprint(type(type(i)))',\n",
       "  'i = 4\\nprint(type(i))\\nprint(int)\\nprint(repr(int))\\nprint(type(i) is int)\\nprint(type(type(i)))\\nprint(i.__class__)\\nprint(i.__class__.__class__)\\nprint(i.__class__.__class__.__class__)',\n",
       "  'i = 4\\nprint(type(i))\\nprint(int)\\nprint(repr(int))\\nprint(type(i) is int)\\nprint(type(type(i)))\\nprint(i.__class__)\\nprint(i.__class__.__class__)\\nprint(i.__class__.__class__.__class__)\\nissubclass(type,object)',\n",
       "  'i = 4\\nprint(type(i))\\nprint(int)\\nprint(repr(int))\\nprint(type(i) is int)\\nprint(type(type(i)))\\nprint(i.__class__)\\nprint(i.__class__.__class__)\\nprint(i.__class__.__class__.__class__)\\nissubclass(type,object)\\ntype(object)',\n",
       "  'i = 4\\nprint(type(i))\\nprint(int)\\nprint(repr(int))\\nprint(type(i) is int)\\nprint(type(type(i)))\\nprint(i.__class__)\\nprint(i.__class__.__class__)\\nprint(i.__class__.__class__.__class__)\\nprint(issubclass(type,object))\\nprint(type(object))',\n",
       "  'a = 42\\nprint(dir(a))',\n",
       "  'getattr(a, numerator)',\n",
       "  'getattr(a, \"numerator\")',\n",
       "  'getattr(a, \"conjugate\")',\n",
       "  'print(getattr(a, \"conjugate\"))\\nprint(callable(getattr(a, \"conjugate\")))',\n",
       "  'print(getattr(a, \"conjugate\"))\\nprint(callable(getattr(a, \"conjugate\")))\\nprint(getattr(a, \"conjugate\")())',\n",
       "  'print(getattr(a, \"conjugate\"))\\nprint(callable(getattr(a, \"conjugate\")))\\nprint(getattr(a, \"conjugate\")()) # call the function \\nprint(a.conjugate.__class__.__name__)',\n",
       "  'globals()'],\n",
       " 'Out': {8: True, 9: type, 13: 42, 14: <function int.conjugate>},\n",
       " 'get_ipython': <bound method InteractiveShell.get_ipython of <ipykernel.zmqshell.ZMQInteractiveShell object at 0x000001462A58C760>>,\n",
       " 'exit': <IPython.core.autocall.ZMQExitAutocall at 0x1462a6206d0>,\n",
       " 'quit': <IPython.core.autocall.ZMQExitAutocall at 0x1462a6206d0>,\n",
       " '_': <function int.conjugate>,\n",
       " '__': 42,\n",
       " '___': type,\n",
       " '__vsc_ipynb_file__': 'c:\\\\Users\\\\Stephen\\\\Documents\\\\GitHub_Repositories\\\\Python-Projects\\\\Tutorials\\\\Python_Core\\\\T10_Introspection\\\\introspection.ipynb',\n",
       " '_i': 'print(getattr(a, \"conjugate\"))\\nprint(callable(getattr(a, \"conjugate\")))\\nprint(getattr(a, \"conjugate\")()) # call the function \\nprint(a.conjugate.__class__.__name__)',\n",
       " '_ii': 'print(getattr(a, \"conjugate\"))\\nprint(callable(getattr(a, \"conjugate\")))\\nprint(getattr(a, \"conjugate\")())',\n",
       " '_iii': 'print(getattr(a, \"conjugate\"))\\nprint(callable(getattr(a, \"conjugate\")))',\n",
       " '_i1': 'i = 4\\nprint(type(i))',\n",
       " 'i': 4,\n",
       " '_i2': 'i = 4\\nprint(type(i))\\nprint(int)',\n",
       " '_i3': 'i = 4\\nprint(type(i))\\nprint(int)\\nprint(repr(int))',\n",
       " '_i4': 'i = 4\\nprint(type(i))\\nprint(int)\\nprint(repr(int))\\nprint(type(i) is int)',\n",
       " '_i5': 'i = 4\\nprint(type(i))\\nprint(int)\\nprint(repr(int))\\nprint(type(i) is int)\\nprint(i.__class__)',\n",
       " '_i6': 'i = 4\\nprint(type(i))\\nprint(int)\\nprint(repr(int))\\nprint(type(i) is int)\\nprint(i.__class__)\\nprint(type(type(i)))',\n",
       " '_i7': 'i = 4\\nprint(type(i))\\nprint(int)\\nprint(repr(int))\\nprint(type(i) is int)\\nprint(type(type(i)))\\nprint(i.__class__)\\nprint(i.__class__.__class__)\\nprint(i.__class__.__class__.__class__)',\n",
       " '_i8': 'i = 4\\nprint(type(i))\\nprint(int)\\nprint(repr(int))\\nprint(type(i) is int)\\nprint(type(type(i)))\\nprint(i.__class__)\\nprint(i.__class__.__class__)\\nprint(i.__class__.__class__.__class__)\\nissubclass(type,object)',\n",
       " '_8': True,\n",
       " '_i9': 'i = 4\\nprint(type(i))\\nprint(int)\\nprint(repr(int))\\nprint(type(i) is int)\\nprint(type(type(i)))\\nprint(i.__class__)\\nprint(i.__class__.__class__)\\nprint(i.__class__.__class__.__class__)\\nissubclass(type,object)\\ntype(object)',\n",
       " '_9': type,\n",
       " '_i10': 'i = 4\\nprint(type(i))\\nprint(int)\\nprint(repr(int))\\nprint(type(i) is int)\\nprint(type(type(i)))\\nprint(i.__class__)\\nprint(i.__class__.__class__)\\nprint(i.__class__.__class__.__class__)\\nprint(issubclass(type,object))\\nprint(type(object))',\n",
       " '_i11': 'a = 42\\nprint(dir(a))',\n",
       " 'a': 42,\n",
       " '_i12': 'getattr(a, numerator)',\n",
       " '_i13': 'getattr(a, \"numerator\")',\n",
       " '_13': 42,\n",
       " '_i14': 'getattr(a, \"conjugate\")',\n",
       " '_14': <function int.conjugate>,\n",
       " '_i15': 'print(getattr(a, \"conjugate\"))\\nprint(callable(getattr(a, \"conjugate\")))',\n",
       " '_i16': 'print(getattr(a, \"conjugate\"))\\nprint(callable(getattr(a, \"conjugate\")))\\nprint(getattr(a, \"conjugate\")())',\n",
       " '_i17': 'print(getattr(a, \"conjugate\"))\\nprint(callable(getattr(a, \"conjugate\")))\\nprint(getattr(a, \"conjugate\")()) # call the function \\nprint(a.conjugate.__class__.__name__)',\n",
       " '_i18': 'globals()'}"
      ]
     },
     "execution_count": 18,
     "metadata": {},
     "output_type": "execute_result"
    }
   ],
   "source": [
    "# dict returned is the global namespace\n",
    "globals()"
   ]
  },
  {
   "cell_type": "code",
   "execution_count": 22,
   "metadata": {},
   "outputs": [
    {
     "name": "stdout",
     "output_type": "stream",
     "text": [
      "{'x': 1, 'y': 2}\n"
     ]
    }
   ],
   "source": [
    "def report_scope():\n",
    "    x = 1\n",
    "    y = 2\n",
    "    print(locals())\n",
    "\n",
    "report_scope()"
   ]
  }
 ],
 "metadata": {
  "kernelspec": {
   "display_name": "base",
   "language": "python",
   "name": "python3"
  },
  "language_info": {
   "codemirror_mode": {
    "name": "ipython",
    "version": 3
   },
   "file_extension": ".py",
   "mimetype": "text/x-python",
   "name": "python",
   "nbconvert_exporter": "python",
   "pygments_lexer": "ipython3",
   "version": "3.9.7"
  },
  "orig_nbformat": 4
 },
 "nbformat": 4,
 "nbformat_minor": 2
}
