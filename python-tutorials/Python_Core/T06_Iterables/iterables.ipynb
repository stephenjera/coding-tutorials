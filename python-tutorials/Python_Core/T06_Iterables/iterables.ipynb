{
 "cells": [
  {
   "attachments": {},
   "cell_type": "markdown",
   "metadata": {},
   "source": [
    "#### Comprehensions  \n"
   ]
  },
  {
   "cell_type": "code",
   "execution_count": 9,
   "metadata": {},
   "outputs": [],
   "source": [
    "from pprint import pprint as pp "
   ]
  },
  {
   "cell_type": "code",
   "execution_count": 5,
   "metadata": {},
   "outputs": [],
   "source": [
    "words = [\n",
    "    \"apple\",\n",
    "    \"banana\",\n",
    "    \"cherry\",\n",
    "    \"date\",\n",
    "    \"elderberry\",\n",
    "    \"fig\",\n",
    "    \"grapefruit\",\n",
    "    \"honeydew\",\n",
    "    \"kiwi\",\n",
    "    \"lemon\",\n",
    "]\n",
    "\n",
    "countries = {\n",
    "    'Afghanistan': 'Kabul',\n",
    "    'Albania': 'Tirana',\n",
    "    'Algeria': 'Algiers',\n",
    "    'Andorra': 'Andorra la Vella',\n",
    "    'Angola': 'Luanda',\n",
    "    'Antigua and Barbuda': \"Saint John's\",\n",
    "    'Argentina': 'Buenos Aires',\n",
    "    'Armenia': 'Yerevan',\n",
    "    'Australia': 'Canberra',\n",
    "    'Austria': 'Vienna',\n",
    "    'Azerbaijan': 'Baku'\n",
    "}"
   ]
  },
  {
   "cell_type": "code",
   "execution_count": 3,
   "metadata": {},
   "outputs": [
    {
     "data": {
      "text/plain": [
       "[5, 6, 6, 4, 10, 3, 10, 8, 4, 5]"
      ]
     },
     "execution_count": 3,
     "metadata": {},
     "output_type": "execute_result"
    }
   ],
   "source": [
    "# list comprehension \n",
    "[len(word) for word in words]"
   ]
  },
  {
   "cell_type": "code",
   "execution_count": 4,
   "metadata": {},
   "outputs": [
    {
     "data": {
      "text/plain": [
       "{3, 4, 5, 6, 8, 10}"
      ]
     },
     "execution_count": 4,
     "metadata": {},
     "output_type": "execute_result"
    }
   ],
   "source": [
    "# set comprehension\n",
    "{len(word) for word in words}"
   ]
  },
  {
   "cell_type": "code",
   "execution_count": 13,
   "metadata": {},
   "outputs": [
    {
     "name": "stdout",
     "output_type": "stream",
     "text": [
      "{'Algiers': 'Algeria',\n",
      " 'Andorra la Vella': 'Andorra',\n",
      " 'Baku': 'Azerbaijan',\n",
      " 'Buenos Aires': 'Argentina',\n",
      " 'Canberra': 'Australia',\n",
      " 'Kabul': 'Afghanistan',\n",
      " 'Luanda': 'Angola',\n",
      " \"Saint John's\": 'Antigua and Barbuda',\n",
      " 'Tirana': 'Albania',\n",
      " 'Vienna': 'Austria',\n",
      " 'Yerevan': 'Armenia'}\n"
     ]
    }
   ],
   "source": [
    "capital_to_country = {capital: country for country, capital in countries.items()}\n",
    "\n",
    "pp(capital_to_country)"
   ]
  },
  {
   "attachments": {},
   "cell_type": "markdown",
   "metadata": {},
   "source": [
    "#### iter()"
   ]
  },
  {
   "cell_type": "code",
   "execution_count": 14,
   "metadata": {},
   "outputs": [
    {
     "name": "stdout",
     "output_type": "stream",
     "text": [
      "1\n",
      "2\n",
      "3\n",
      "4\n"
     ]
    }
   ],
   "source": [
    "my_list = [1, 2, 3, 4]\n",
    "my_iterator = iter(my_list)\n",
    "\n",
    "print(next(my_iterator)) # 1\n",
    "print(next(my_iterator)) # 2\n",
    "print(next(my_iterator)) # 3\n",
    "print(next(my_iterator)) # 4"
   ]
  },
  {
   "attachments": {},
   "cell_type": "markdown",
   "metadata": {},
   "source": [
    "#### Generators"
   ]
  },
  {
   "cell_type": "code",
   "execution_count": 17,
   "metadata": {},
   "outputs": [
    {
     "name": "stdout",
     "output_type": "stream",
     "text": [
      "<generator object my_generator at 0x000001E9D7304350>\n",
      "about to yield 0\n",
      "0\n",
      "about to yield 1\n",
      "1\n",
      "about to yield 2\n",
      "2\n",
      "about to yield 3\n",
      "3\n",
      "about to yield 4\n",
      "4\n"
     ]
    }
   ],
   "source": [
    "def my_generator(n):\n",
    "    i = 0\n",
    "    while i < n:\n",
    "        print(f\"about to yield {i}\")\n",
    "        yield i\n",
    "        i += 1\n",
    "\n",
    "gen = my_generator(5)\n",
    "print(gen)\n",
    "print(next(gen)) # 0\n",
    "print(next(gen)) # 1\n",
    "print(next(gen)) # 2\n",
    "print(next(gen)) # 3\n",
    "print(next(gen)) # 4"
   ]
  },
  {
   "cell_type": "code",
   "execution_count": 18,
   "metadata": {},
   "outputs": [
    {
     "name": "stdout",
     "output_type": "stream",
     "text": [
      "about to yield 0\n",
      "0\n",
      "about to yield 1\n",
      "1\n",
      "about to yield 2\n",
      "2\n",
      "about to yield 3\n",
      "3\n",
      "about to yield 4\n",
      "4\n"
     ]
    }
   ],
   "source": [
    "# can iterate through generator objects because they are iterables  \n",
    "for i in my_generator(5):\n",
    "    print(i)"
   ]
  },
  {
   "cell_type": "code",
   "execution_count": 21,
   "metadata": {},
   "outputs": [
    {
     "name": "stdout",
     "output_type": "stream",
     "text": [
      "<generator object <genexpr> at 0x000001E9D7304820>\n",
      "1\n",
      "4\n",
      "9\n",
      "16\n"
     ]
    }
   ],
   "source": [
    "# A generator expression has a similar syntax to a list comprehension \n",
    "# but uses parentheses instead of square brackets.\n",
    "my_list = [1, 2, 3, 4]\n",
    "gen = (x**2 for x in my_list) # not tuple comprehension in python \n",
    "\n",
    "print(gen)\n",
    "\n",
    "print(next(gen)) # 1\n",
    "print(next(gen)) # 4\n",
    "print(next(gen)) # 9\n",
    "print(next(gen)) # 16"
   ]
  },
  {
   "cell_type": "code",
   "execution_count": 26,
   "metadata": {},
   "outputs": [
    {
     "data": {
      "text/plain": [
       "333333283333335000000"
      ]
     },
     "execution_count": 26,
     "metadata": {},
     "output_type": "execute_result"
    }
   ],
   "source": [
    "# parenthesis can be dropped if generator expression\n",
    "# is sole argument to function \n",
    "sum(x*x for x in range(1, 10000000))"
   ]
  },
  {
   "cell_type": "code",
   "execution_count": 28,
   "metadata": {},
   "outputs": [],
   "source": [
    "def is_prime(n):\n",
    "    if n <= 1:\n",
    "        return False\n",
    "    for i in range(2, n):\n",
    "        if n % i == 0:\n",
    "            return False\n",
    "    return True"
   ]
  },
  {
   "cell_type": "code",
   "execution_count": 31,
   "metadata": {},
   "outputs": [
    {
     "data": {
      "text/plain": [
       "76127"
      ]
     },
     "execution_count": 31,
     "metadata": {},
     "output_type": "execute_result"
    }
   ],
   "source": [
    "sum(x for x in range(1, 1001) if is_prime(x))"
   ]
  },
  {
   "attachments": {},
   "cell_type": "markdown",
   "metadata": {},
   "source": [
    "This code calculates the sum of the first 1000 prime numbers using a generator expression and functions from the itertools module.\n",
    "\n",
    "The first line from itertools import count, islice imports the count and islice functions from the itertools module. The count function returns an iterator that generates an infinite sequence of numbers starting from a specified value. The islice function returns an iterator that generates a slice of an iterable."
   ]
  },
  {
   "cell_type": "code",
   "execution_count": 34,
   "metadata": {},
   "outputs": [
    {
     "name": "stdout",
     "output_type": "stream",
     "text": [
      "3682913\n"
     ]
    }
   ],
   "source": [
    "from itertools import count, islice\n",
    "\n",
    "thousand_prime = sum(islice((x for x in count() if is_prime(x)), 1000))\n",
    "\n",
    "print(thousand_prime)"
   ]
  },
  {
   "attachments": {},
   "cell_type": "markdown",
   "metadata": {},
   "source": [
    "The second line \n",
    "```python \n",
    "thousand_prime = sum(islice((x for x in count() if is_prime(x)), 1000))\n",
    "```\n",
    "calculates the sum of the first 1000 prime numbers. The innermost part of this expression \n",
    "```python\n",
    "(x for x in count() if is_prime(x))\n",
    "```\n",
    "is a generator expression that generates an infinite sequence of prime numbers. This generator expression uses the **count()** function to generate an infinite sequence of numbers and filters out the non-prime numbers using the **is_prime** function.\n",
    "\n",
    "The **islice** function is then used to take the first 1000 elements from this infinite sequence of prime numbers. The sum function is then used to calculate the sum of these 1000 prime numbers.\n",
    "\n",
    "The final result is stored in the variable thousand_prime."
   ]
  }
 ],
 "metadata": {
  "kernelspec": {
   "display_name": "base",
   "language": "python",
   "name": "python3"
  },
  "language_info": {
   "codemirror_mode": {
    "name": "ipython",
    "version": 3
   },
   "file_extension": ".py",
   "mimetype": "text/x-python",
   "name": "python",
   "nbconvert_exporter": "python",
   "pygments_lexer": "ipython3",
   "version": "3.9.7"
  },
  "orig_nbformat": 4
 },
 "nbformat": 4,
 "nbformat_minor": 2
}
