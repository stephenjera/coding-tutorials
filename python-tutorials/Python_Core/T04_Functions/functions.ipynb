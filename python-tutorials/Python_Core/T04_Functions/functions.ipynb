{
 "cells": [
  {
   "attachments": {},
   "cell_type": "markdown",
   "metadata": {},
   "source": [
    "### Functions "
   ]
  },
  {
   "cell_type": "code",
   "execution_count": 1,
   "metadata": {},
   "outputs": [
    {
     "data": {
      "text/plain": [
       "9"
      ]
     },
     "execution_count": 1,
     "metadata": {},
     "output_type": "execute_result"
    }
   ],
   "source": [
    "# defined with def keyword\n",
    "def test(x):\n",
    "    return x * x\n",
    "\n",
    "# Call function\n",
    "test(3)"
   ]
  },
  {
   "cell_type": "code",
   "execution_count": 3,
   "metadata": {},
   "outputs": [
    {
     "name": "stdout",
     "output_type": "stream",
     "text": [
      "I caused a side effect\n"
     ]
    }
   ],
   "source": [
    "# not required to return values\n",
    "def side_effect():\n",
    "    print(\"I caused a side effect\")\n",
    "\n",
    "side_effect()"
   ]
  },
  {
   "cell_type": "code",
   "execution_count": 6,
   "metadata": {},
   "outputs": [
    {
     "name": "stdout",
     "output_type": "stream",
     "text": [
      "odd\n"
     ]
    }
   ],
   "source": [
    "# return early \n",
    "def even_or_odd(a):\n",
    "    if a % 2 == 0:\n",
    "        print(\"even\")\n",
    "        return\n",
    "    print(\"odd\")\n",
    "\n",
    "even_or_odd(3)"
   ]
  },
  {
   "attachments": {},
   "cell_type": "markdown",
   "metadata": {},
   "source": [
    "#### Argument Passing\n"
   ]
  },
  {
   "cell_type": "code",
   "execution_count": 7,
   "metadata": {},
   "outputs": [
    {
     "name": "stdout",
     "output_type": "stream",
     "text": [
      "mod = [1, 2, 3, 4]\n",
      "a =   [1, 2, 3, 4]\n"
     ]
    }
   ],
   "source": [
    "a = [1, 2, 3]\n",
    "\n",
    "\n",
    "def modify(mod):\n",
    "    mod.append(4)\n",
    "    print(\"mod =\", mod)\n",
    "\n",
    "\n",
    "modify(a)\n",
    "\n",
    "# a was modified because it's object reference was passed to the function\n",
    "print(\"a =  \", a)"
   ]
  },
  {
   "attachments": {},
   "cell_type": "markdown",
   "metadata": {},
   "source": [
    "When y is passed to my_function as an argument, a reference to the object that y is bound to is passed to the function. Inside the function, this reference is assigned to the local variable x. This means that x and y are two separate variables that happen to reference the same object."
   ]
  },
  {
   "cell_type": "code",
   "execution_count": null,
   "metadata": {},
   "outputs": [],
   "source": [
    "y = 5\n",
    "\n",
    "\n",
    "def my_function(x):\n",
    "    x = 10\n",
    "\n",
    "\n",
    "my_function(y)\n",
    "print(y)  # prints 5"
   ]
  },
  {
   "attachments": {},
   "cell_type": "markdown",
   "metadata": {},
   "source": [
    "When my_function is called with y as an argument, a reference to the integer object with the value 5 is passed to the function. Inside the function, this reference is assigned to the local variable x. When x is assigned a new value of 10, it is rebound to a new integer object with the value 10. This does not affect the value of y outside the function because x and y are two separate variables.\n",
    "\n",
    "After the function call, the reference to the integer object with the value 5 that was passed to the function still exists and is bound to the variable y. The reference that was assigned to the local variable x inside the function is discarded when the function returns and x goes out of scope."
   ]
  },
  {
   "cell_type": "code",
   "execution_count": 10,
   "metadata": {},
   "outputs": [
    {
     "name": "stdout",
     "output_type": "stream",
     "text": [
      "replace =  [7, 8, 9]\n",
      "old list = [1, 2, 3]\n"
     ]
    }
   ],
   "source": [
    "b = [1, 2, 3]\n",
    "\n",
    "\n",
    "def replace(x):\n",
    "    # x = [1, 2, 3]\n",
    "    x = [7, 8, 9]\n",
    "    print(\"replace = \", x)\n",
    "\n",
    "\n",
    "replace(a)\n",
    "print(\"old list =\", b)"
   ]
  },
  {
   "attachments": {},
   "cell_type": "markdown",
   "metadata": {},
   "source": [
    "#### Default arguments"
   ]
  },
  {
   "cell_type": "code",
   "execution_count": 11,
   "metadata": {},
   "outputs": [
    {
     "name": "stdout",
     "output_type": "stream",
     "text": [
      "4\n"
     ]
    }
   ],
   "source": [
    "# x is a positional argument\n",
    "# y and z are keyword arguments\n",
    "def defaut_lengths(x, y=4, z=5):\n",
    "    print(x * y * z)\n",
    "\n",
    "\n",
    "defaut_lengths(4)"
   ]
  },
  {
   "cell_type": "code",
   "execution_count": 21,
   "metadata": {},
   "outputs": [],
   "source": [
    "def add_spam(menu=[]):\n",
    "    menu.append(\"spam\")\n",
    "    return menu"
   ]
  },
  {
   "attachments": {},
   "cell_type": "markdown",
   "metadata": {},
   "source": [
    "<p style=\"color:red\">Don't use mutable objects as default arguments</p>"
   ]
  },
  {
   "cell_type": "code",
   "execution_count": 23,
   "metadata": {},
   "outputs": [
    {
     "data": {
      "text/plain": [
       "['spam', 'spam', 'spam', 'spam', 'spam', 'spam']"
      ]
     },
     "execution_count": 23,
     "metadata": {},
     "output_type": "execute_result"
    }
   ],
   "source": [
    "# add spam is defined once so menu list is created only once\n",
    "# subsequent function calls append to list NOT create new list\n",
    "add_spam()\n",
    "add_spam()\n",
    "add_spam()\n",
    "add_spam()"
   ]
  },
  {
   "cell_type": "code",
   "execution_count": 26,
   "metadata": {},
   "outputs": [],
   "source": [
    "def add_spam_fixed(menu=None):\n",
    "    if menu == None:\n",
    "        menu = []\n",
    "    menu.append(\"spam\")\n",
    "    return menu"
   ]
  },
  {
   "cell_type": "code",
   "execution_count": 27,
   "metadata": {},
   "outputs": [
    {
     "data": {
      "text/plain": [
       "['spam']"
      ]
     },
     "execution_count": 27,
     "metadata": {},
     "output_type": "execute_result"
    }
   ],
   "source": [
    "add_spam_fixed()\n",
    "add_spam_fixed()\n",
    "add_spam_fixed()\n",
    "add_spam_fixed()"
   ]
  },
  {
   "attachments": {},
   "cell_type": "markdown",
   "metadata": {},
   "source": [
    "#### function scope"
   ]
  },
  {
   "cell_type": "code",
   "execution_count": 30,
   "metadata": {},
   "outputs": [
    {
     "name": "stdout",
     "output_type": "stream",
     "text": [
      "14\n"
     ]
    }
   ],
   "source": [
    "# global scope\n",
    "count = 14\n",
    "\n",
    "\n",
    "def show_count():\n",
    "    print(count)\n",
    "\n",
    "\n",
    "show_count()"
   ]
  },
  {
   "cell_type": "code",
   "execution_count": 35,
   "metadata": {},
   "outputs": [
    {
     "name": "stdout",
     "output_type": "stream",
     "text": [
      "5\n",
      "14\n"
     ]
    }
   ],
   "source": [
    "# local scope\n",
    "count = 14\n",
    "\n",
    "\n",
    "def show_count():\n",
    "    count = 5\n",
    "    print(count)\n",
    "\n",
    "\n",
    "show_count()\n",
    "print(count)"
   ]
  },
  {
   "cell_type": "code",
   "execution_count": 36,
   "metadata": {},
   "outputs": [
    {
     "name": "stdout",
     "output_type": "stream",
     "text": [
      "5\n",
      "5\n"
     ]
    }
   ],
   "source": [
    "# using global variables\n",
    "count = 14\n",
    "\n",
    "\n",
    "def show_count():\n",
    "    global count\n",
    "    count = 5\n",
    "    print(count)\n",
    "\n",
    "\n",
    "show_count()\n",
    "print(count)"
   ]
  },
  {
   "attachments": {},
   "cell_type": "markdown",
   "metadata": {},
   "source": [
    "#### Lambdas\n",
    "\n",
    "lambdas are annoymous functions and take the form:\n",
    "```python\n",
    "lambda arguments : expression \n",
    "```"
   ]
  },
  {
   "cell_type": "code",
   "execution_count": 2,
   "metadata": {},
   "outputs": [
    {
     "data": {
      "text/plain": [
       "5"
      ]
     },
     "execution_count": 2,
     "metadata": {},
     "output_type": "execute_result"
    }
   ],
   "source": [
    "add = lambda a, b: a + b \n",
    "add(1,4)"
   ]
  },
  {
   "cell_type": "code",
   "execution_count": 1,
   "metadata": {},
   "outputs": [
    {
     "data": {
      "text/plain": [
       "66"
      ]
     },
     "execution_count": 1,
     "metadata": {},
     "output_type": "execute_result"
    }
   ],
   "source": [
    "# Create function\n",
    "def func(x):\n",
    "    return lambda a: a * x\n",
    "\n",
    "# Function returns a lambda function\n",
    "triple = func(3)\n",
    "# Call lambda function \n",
    "triple(22)"
   ]
  },
  {
   "cell_type": "code",
   "execution_count": 3,
   "metadata": {},
   "outputs": [
    {
     "name": "stdout",
     "output_type": "stream",
     "text": [
      "[('b', 1), ('a', 2), ('c', 3)]\n"
     ]
    }
   ],
   "source": [
    "# create a list of tuples\n",
    "my_list = [(\"a\", 2), (\"b\", 1), (\"c\", 3)]\n",
    "# sort the list by the second element of each tuple\n",
    "# using a lambda function as the key\n",
    "my_list.sort(key=lambda x: x[1])\n",
    "# print the sorted list\n",
    "print(my_list)"
   ]
  },
  {
   "attachments": {},
   "cell_type": "markdown",
   "metadata": {},
   "source": [
    "#### Extended format argument syntax"
   ]
  },
  {
   "cell_type": "code",
   "execution_count": 18,
   "metadata": {},
   "outputs": [
    {
     "name": "stdout",
     "output_type": "stream",
     "text": [
      "lengths: (4, 5, 6, 6, 7)\n",
      "type: <class 'tuple'>\n"
     ]
    },
    {
     "data": {
      "text/plain": [
       "15120"
      ]
     },
     "execution_count": 18,
     "metadata": {},
     "output_type": "execute_result"
    }
   ],
   "source": [
    "# define a function that takes a variable number of arguments\n",
    "def hyper_volume(length, *lengths):\n",
    "    print(f\"lengths: {lengths}\")\n",
    "    print(f\"type: {type(lengths)}\")\n",
    "\n",
    "    v = length\n",
    " \n",
    "    for item in lengths:\n",
    "        v *= item  # multiply v by each element\n",
    "    return v  # return the final value of v\n",
    "\n",
    "\n",
    "hyper_volume(3, 4, 5, 6, 6, 7)  "
   ]
  },
  {
   "cell_type": "code",
   "execution_count": 19,
   "metadata": {},
   "outputs": [
    {
     "name": "stdout",
     "output_type": "stream",
     "text": [
      "lengths: (3, 4, 5, 6, 6, 7)\n",
      "type: <class 'tuple'>\n",
      "i: <tuple_iterator object at 0x0000017F2141EDC0>\n",
      "v: 3\n"
     ]
    },
    {
     "data": {
      "text/plain": [
       "15120"
      ]
     },
     "execution_count": 19,
     "metadata": {},
     "output_type": "execute_result"
    }
   ],
   "source": [
    "# define a function that takes a variable number of arguments\n",
    "def hyper_volume(*lengths):\n",
    "    print(f\"lengths: {lengths}\")\n",
    "    print(f\"type: {type(lengths)}\")\n",
    "\n",
    "    # create an iterator from the tuple of arguments\n",
    "    i = iter(lengths)\n",
    "    print(f\"i: {i}\")\n",
    "\n",
    "    # get the first element from the iterator and assign it to v\n",
    "    v = next(i)\n",
    "    print(f\"v: {v}\")\n",
    "\n",
    "    # iterate over the remaining elements in the iterator\n",
    "    for length in i:\n",
    "        v *= length  # multiply v by each element\n",
    "    return v  # return the final value of v\n",
    "\n",
    "\n",
    "hyper_volume(3, 4, 5, 6, 6, 7)  "
   ]
  },
  {
   "cell_type": "code",
   "execution_count": 24,
   "metadata": {},
   "outputs": [
    {
     "name": "stdout",
     "output_type": "stream",
     "text": [
      "<p style=\"color:red\">Hello World</p>\n"
     ]
    }
   ],
   "source": [
    "# using **kwargs\n",
    "# define a function that takes a tag, text, and\n",
    "# any number of keyword arguments\n",
    "def html(tag, text, **attributes):\n",
    "    # generate a string of HTML attributes from the keyword arguments\n",
    "    attrs = \" \".join([f'{key}=\"{value}\"' for key, value in attributes.items()])\n",
    "    # generate and return the final HTML string using an f-string\n",
    "    return f\"<{tag} {attrs}>{text}</{tag}>\"\n",
    "\n",
    "\n",
    "print(html(\"p\", \"Hello World\", style=\"color:red\"))"
   ]
  },
  {
   "attachments": {},
   "cell_type": "markdown",
   "metadata": {},
   "source": [
    "#### Extended call syntax"
   ]
  },
  {
   "cell_type": "code",
   "execution_count": 25,
   "metadata": {},
   "outputs": [
    {
     "name": "stdout",
     "output_type": "stream",
     "text": [
      "6\n"
     ]
    }
   ],
   "source": [
    "# define a function that takes three arguments\n",
    "def my_function(a, b, c):\n",
    "    return a + b + c  # return the sum of the three arguments\n",
    "\n",
    "\n",
    "my_list = [1, 2, 3]  # create a list with three elements\n",
    "\n",
    "# call the function and unpack the elements of the\n",
    "# list as arguments using the extended call syntax with *args\n",
    "result = my_function(*my_list)\n",
    "print(result)"
   ]
  },
  {
   "cell_type": "code",
   "execution_count": null,
   "metadata": {},
   "outputs": [],
   "source": [
    "# define a function that takes three arguments\n",
    "def my_function(a, b, c):\n",
    "    return a + b + c  # return the sum of the three arguments\n",
    "\n",
    "\n",
    "# create a dictionary with three key-value pairs\n",
    "my_dict = {\"a\": 1, \"b\": 2, \"c\": 3}\n",
    "\n",
    "# call the function and unpack the key-value pairs of the\n",
    "# dictionary as keyword arguments using the extended call syntax with **kwargs\n",
    "result = my_function(**my_dict)\n",
    "print(result)  "
   ]
  },
  {
   "attachments": {},
   "cell_type": "markdown",
   "metadata": {},
   "source": [
    "#### Map function"
   ]
  },
  {
   "cell_type": "code",
   "execution_count": 9,
   "metadata": {},
   "outputs": [
    {
     "name": "stdout",
     "output_type": "stream",
     "text": [
      "<map object at 0x0000026071FE7C10>\n"
     ]
    }
   ],
   "source": [
    "result = map(ord, \"Silver fox\")\n",
    "print(result)"
   ]
  },
  {
   "cell_type": "code",
   "execution_count": 10,
   "metadata": {},
   "outputs": [
    {
     "name": "stdout",
     "output_type": "stream",
     "text": [
      "83\n",
      "[105, 108, 118, 101, 114, 32, 102, 111, 120]\n"
     ]
    }
   ],
   "source": [
    "print(next(result))\n",
    "print(list(result))"
   ]
  },
  {
   "cell_type": "code",
   "execution_count": 12,
   "metadata": {},
   "outputs": [],
   "source": [
    "colours = [\"red\", \"blue\", \"green\"]\n",
    "sizes = [\"small\", \"medium\", \"large\"]\n",
    "animals = [\"cat\", \"dog\", \"bird\"]\n",
    "\n",
    "\n",
    "def combine(size, colour, animal):\n",
    "    return f\"{size} {colour} {animal}\""
   ]
  },
  {
   "cell_type": "code",
   "execution_count": 13,
   "metadata": {},
   "outputs": [
    {
     "data": {
      "text/plain": [
       "['small red cat', 'medium blue dog', 'large green bird']"
      ]
     },
     "execution_count": 13,
     "metadata": {},
     "output_type": "execute_result"
    }
   ],
   "source": [
    "list(map(combine, sizes, colours, animals))"
   ]
  },
  {
   "attachments": {},
   "cell_type": "markdown",
   "metadata": {},
   "source": [
    "#### Filter function"
   ]
  },
  {
   "cell_type": "code",
   "execution_count": 14,
   "metadata": {},
   "outputs": [
    {
     "name": "stdout",
     "output_type": "stream",
     "text": [
      "[2, 4, 6]\n"
     ]
    }
   ],
   "source": [
    "numbers = [1, 2, 3, 4, 5, 6]\n",
    "even_numbers = filter(lambda x: x % 2 == 0, numbers)\n",
    "print(list(even_numbers))"
   ]
  },
  {
   "attachments": {},
   "cell_type": "markdown",
   "metadata": {},
   "source": [
    "#### Reduce function"
   ]
  },
  {
   "cell_type": "code",
   "execution_count": 16,
   "metadata": {},
   "outputs": [
    {
     "name": "stdout",
     "output_type": "stream",
     "text": [
      "1 x 2\n",
      "2 x 3\n",
      "6 x 4\n",
      "24\n"
     ]
    }
   ],
   "source": [
    "from functools import reduce\n",
    "\n",
    "\n",
    "def mul(x, y):\n",
    "    print(f\"{x} x {y}\")\n",
    "    return x * y\n",
    "\n",
    "\n",
    "numbers = [1, 2, 3, 4]\n",
    "result = reduce(mul, numbers)\n",
    "print(result)"
   ]
  }
 ],
 "metadata": {
  "kernelspec": {
   "display_name": "base",
   "language": "python",
   "name": "python3"
  },
  "language_info": {
   "codemirror_mode": {
    "name": "ipython",
    "version": 3
   },
   "file_extension": ".py",
   "mimetype": "text/x-python",
   "name": "python",
   "nbconvert_exporter": "python",
   "pygments_lexer": "ipython3",
   "version": "3.9.7"
  },
  "orig_nbformat": 4
 },
 "nbformat": 4,
 "nbformat_minor": 2
}
