{
    "cells": [
        {
            "cell_type": "markdown",
            "metadata": {},
            "source": [
                "# The building blocks of algorithms\n",
                "\n",
                "### Sequencing\n",
                "An algorithm is a step-by-step process, and the order of those steps are crucial to ensuring the correctness of an algorithm.\n",
                "\n",
                "### Selection \n",
                "Algorithms can use selection to determine a different set of steps to execute based on a Boolean expression.\n",
                "\n",
                "### Iteration \n",
                "Algorithms often use repetition to execute steps a certain number of times or until a condition is met."
            ]
        },
        {
            "cell_type": "code",
            "execution_count": 1,
            "metadata": {},
            "outputs": [],
            "source": [
                "import ipytest \n",
                "import pytest\n",
                "import timeit"
            ]
        },
        {
            "cell_type": "code",
            "execution_count": 2,
            "metadata": {},
            "outputs": [],
            "source": [
                "# Configure pytest\n",
                "ipytest.autoconfig()"
            ]
        },
        {
            "cell_type": "markdown",
            "metadata": {},
            "source": [
                "# Recursion\n",
                "* A function that calls itself"
            ]
        },
        {
            "cell_type": "markdown",
            "metadata": {},
            "source": [
                "### Factorials \n",
                "n! = (n-0) * (n-1) ..."
            ]
        },
        {
            "cell_type": "code",
            "execution_count": 3,
            "metadata": {},
            "outputs": [],
            "source": [
                "# Iterative method \n",
                "def iter_factorial(n):\n",
                "    ans = 1\n",
                "    for i in range(2, n + 1):\n",
                "        print(f\"i: {i}\")\n",
                "        ans *= i\n",
                "        print(f\"ans: {ans}\")\n",
                "    return ans"
            ]
        },
        {
            "cell_type": "code",
            "execution_count": 4,
            "metadata": {},
            "outputs": [
                {
                    "name": "stdout",
                    "output_type": "stream",
                    "text": [
                        "i: 2\n",
                        "ans: 2\n",
                        "i: 3\n",
                        "ans: 6\n",
                        "i: 4\n",
                        "ans: 24\n",
                        "i: 5\n",
                        "ans: 120\n",
                        "120\n"
                    ]
                }
            ],
            "source": [
                "print(iter_factorial(5))"
            ]
        },
        {
            "cell_type": "code",
            "execution_count": 5,
            "metadata": {},
            "outputs": [],
            "source": [
                "# Recursive method\n",
                "def recursive_factorial(n):\n",
                "    if n <= 1:\n",
                "        return 1\n",
                "    else:\n",
                "        temp = recursive_factorial(n-1)\n",
                "        temp *= n \n",
                "        print(f'temp: {temp}')\n",
                "        return temp"
            ]
        },
        {
            "cell_type": "code",
            "execution_count": 6,
            "metadata": {},
            "outputs": [
                {
                    "name": "stdout",
                    "output_type": "stream",
                    "text": [
                        "temp: 2\n",
                        "temp: 6\n",
                        "temp: 24\n",
                        "temp: 120\n"
                    ]
                },
                {
                    "data": {
                        "text/plain": [
                            "120"
                        ]
                    },
                    "execution_count": 6,
                    "metadata": {},
                    "output_type": "execute_result"
                }
            ],
            "source": [
                "recursive_factorial(5)"
            ]
        },
        {
            "cell_type": "code",
            "execution_count": 7,
            "metadata": {},
            "outputs": [
                {
                    "name": "stdout",
                    "output_type": "stream",
                    "text": [
                        "\u001b[32m.\u001b[0m\u001b[32m.\u001b[0m\u001b[32m.\u001b[0m\u001b[32m                                                                                          [100%]\u001b[0m\n",
                        "\u001b[32m\u001b[32m\u001b[1m3 passed\u001b[0m\u001b[32m in 0.01s\u001b[0m\u001b[0m\n"
                    ]
                },
                {
                    "data": {
                        "text/plain": [
                            "<ExitCode.OK: 0>"
                        ]
                    },
                    "execution_count": 7,
                    "metadata": {},
                    "output_type": "execute_result"
                }
            ],
            "source": [
                "ipytest.clean_tests()  # Allows renaming tests\n",
                "\n",
                "\n",
                "@pytest.mark.parametrize(\n",
                "    \"test_input, expected\",\n",
                "    [\n",
                "        (0, 1),\n",
                "        (1, 1),\n",
                "        (5, 120),\n",
                "    ],\n",
                ")\n",
                "def test_iter_factorial(test_input, expected):\n",
                "    assert iter_factorial(test_input) == expected\n",
                "\n",
                "\n",
                "@pytest.mark.parametrize(\n",
                "    \"test_input, expected\",\n",
                "    [\n",
                "        (0, 1),\n",
                "        (1, 1),\n",
                "        (5, 120),\n",
                "    ],\n",
                ")\n",
                "def test_iter_factorial(test_input, expected):\n",
                "    assert recursive_factorial(test_input) == expected\n",
                "\n",
                "\n",
                "ipytest.run()"
            ]
        },
        {
            "cell_type": "markdown",
            "metadata": {},
            "source": [
                "# Linear Search"
            ]
        },
        {
            "cell_type": "code",
            "execution_count": 8,
            "metadata": {},
            "outputs": [],
            "source": [
                "def linear_search(arr, target):\n",
                "    for i, val in enumerate(arr):\n",
                "        print(f'i: {i}, val: {val}')\n",
                "        if val == target:\n",
                "            return i"
            ]
        },
        {
            "cell_type": "code",
            "execution_count": 9,
            "metadata": {},
            "outputs": [
                {
                    "name": "stdout",
                    "output_type": "stream",
                    "text": [
                        "i: 0, val: 1\n",
                        "i: 1, val: 2\n",
                        "i: 2, val: 3\n"
                    ]
                },
                {
                    "data": {
                        "text/plain": [
                            "2"
                        ]
                    },
                    "execution_count": 9,
                    "metadata": {},
                    "output_type": "execute_result"
                }
            ],
            "source": [
                "linear_search([1,2,3,4], 3)"
            ]
        },
        {
            "cell_type": "code",
            "execution_count": 10,
            "metadata": {},
            "outputs": [],
            "source": [
                "#%timeit linear_search([1,2,3,4], 3)"
            ]
        },
        {
            "cell_type": "code",
            "execution_count": 11,
            "metadata": {},
            "outputs": [
                {
                    "name": "stdout",
                    "output_type": "stream",
                    "text": [
                        "\u001b[32m.\u001b[0m\u001b[32m                                                                                            [100%]\u001b[0m\n",
                        "\u001b[32m\u001b[32m\u001b[1m1 passed\u001b[0m\u001b[32m in 0.01s\u001b[0m\u001b[0m\n"
                    ]
                },
                {
                    "data": {
                        "text/plain": [
                            "<ExitCode.OK: 0>"
                        ]
                    },
                    "execution_count": 11,
                    "metadata": {},
                    "output_type": "execute_result"
                }
            ],
            "source": [
                "ipytest.clean_tests()  # Allows renaming tests\n",
                "\n",
                "\n",
                "@pytest.mark.parametrize(\n",
                "    \"test_input, test_target, expected\",\n",
                "    [\n",
                "        ([1,2,3,4], 4, 3),\n",
                "    ],\n",
                ")\n",
                "def test_linear_search(test_input, test_target, expected):\n",
                "    assert linear_search(test_input, test_target) == expected\n",
                "\n",
                "\n",
                "ipytest.run()"
            ]
        },
        {
            "cell_type": "markdown",
            "metadata": {},
            "source": [
                "# Binary Search"
            ]
        },
        {
            "cell_type": "code",
            "execution_count": 12,
            "metadata": {},
            "outputs": [],
            "source": [
                "def binary_search_iter(arr, start, end, target):\n",
                "    arr_sorted = sorted(arr)\n",
                "    print(arr_sorted)\n",
                "    while start <= end:\n",
                "        mid = (start + end) // 2\n",
                "        print(f\"start: {start}, end: {end}, mid: {mid}\")\n",
                "        if arr_sorted[mid] < target:\n",
                "            start = mid + 1\n",
                "        elif arr_sorted[mid] > target:\n",
                "            end = mid - 1\n",
                "        else:\n",
                "            return mid"
            ]
        },
        {
            "cell_type": "code",
            "execution_count": 17,
            "metadata": {},
            "outputs": [],
            "source": [
                "def binary_search_recursive(arr, start, end, target):\n",
                "    if end >= start:\n",
                "        arr_sorted = sorted(arr)\n",
                "        print(arr_sorted)\n",
                "        mid = (start + end) // 2\n",
                "        print(f\"start: {start}, end: {end}, mid: {mid}\")\n",
                "        if arr_sorted[mid] < target:\n",
                "            return binary_search_recursive(arr_sorted, mid + 1, end, target)\n",
                "\n",
                "        elif arr_sorted[mid] > target:\n",
                "            return binary_search_recursive(arr_sorted, start, mid - 1, target)\n",
                "\n",
                "        else:\n",
                "            return mid\n",
                "    else:\n",
                "        return -1"
            ]
        },
        {
            "cell_type": "code",
            "execution_count": 18,
            "metadata": {},
            "outputs": [
                {
                    "name": "stdout",
                    "output_type": "stream",
                    "text": [
                        "\u001b[32m.\u001b[0m\u001b[32m.\u001b[0m\u001b[32m.\u001b[0m\u001b[32m.\u001b[0m\u001b[32m.\u001b[0m\u001b[32m.\u001b[0m\u001b[32m                                                                                       [100%]\u001b[0m\n",
                        "\u001b[32m\u001b[32m\u001b[1m6 passed\u001b[0m\u001b[32m in 0.02s\u001b[0m\u001b[0m\n"
                    ]
                },
                {
                    "data": {
                        "text/plain": [
                            "<ExitCode.OK: 0>"
                        ]
                    },
                    "execution_count": 18,
                    "metadata": {},
                    "output_type": "execute_result"
                }
            ],
            "source": [
                "ipytest.clean_tests()  # Allows renaming tests\n",
                "\n",
                "\n",
                "@pytest.mark.parametrize(\n",
                "    \"test_arr, test_start, test_end, test_target, expected\",\n",
                "    [\n",
                "        ([1, 2, 3, 4], 0, len([1, 2, 3, 4]) - 1, 4, 3),\n",
                "        ([1, 2, 3, 4], 0, len([1, 2, 3, 4]) - 1, 1, 0),\n",
                "        ([1, 2, 3, 4], 0, len([1, 2, 3, 4]) - 1, 2, 1),\n",
                "    ],\n",
                ")\n",
                "def test_binary_search_iter(test_arr, test_start, test_end, test_target, expected):\n",
                "    assert binary_search_iter(test_arr, test_start, test_end, test_target) == expected\n",
                "\n",
                "\n",
                "@pytest.mark.parametrize(\n",
                "    \"test_arr, test_start, test_end, test_target, expected\",\n",
                "    [\n",
                "        ([1, 2, 3, 4], 0, len([1, 2, 3, 4]) - 1, 4, 3),\n",
                "        ([1, 2, 3, 4], 0, len([1, 2, 3, 4]) - 1, 1, 0),\n",
                "        ([1, 2, 3, 4], 0, len([1, 2, 3, 4]) - 1, 2, 1),\n",
                "    ],\n",
                ")\n",
                "def test_binary_search_recursive(test_arr, test_start, test_end, test_target, expected):\n",
                "    assert (\n",
                "        binary_search_recursive(test_arr, test_start, test_end, test_target) == expected\n",
                "    )\n",
                "\n",
                "\n",
                "ipytest.run()"
            ]
        },
        {
            "cell_type": "markdown",
            "metadata": {},
            "source": [
                "#  Bubble sort \n"
            ]
        },
        {
            "cell_type": "code",
            "execution_count": 43,
            "metadata": {},
            "outputs": [
                {
                    "data": {
                        "text/plain": [
                            "[3, 2, 1]"
                        ]
                    },
                    "execution_count": 43,
                    "metadata": {},
                    "output_type": "execute_result"
                }
            ],
            "source": [
                "def bubble_sort(arr, reverse=False):\n",
                "    for i in range(len(arr)):\n",
                "        for j in range(len(arr) - i - 1):\n",
                "            if not reverse:\n",
                "                if arr[j] > arr[j + 1]:\n",
                "                    # Swap values\n",
                "                    arr[j], arr[j + 1] = arr[j + 1], arr[j]\n",
                "            else:\n",
                "                if arr[j] < arr[j + 1]:\n",
                "                    # Swap values\n",
                "                    arr[j], arr[j + 1] = arr[j + 1], arr[j]\n",
                "\n",
                "    return arr"
            ]
        },
        {
            "cell_type": "code",
            "execution_count": 46,
            "metadata": {},
            "outputs": [
                {
                    "name": "stdout",
                    "output_type": "stream",
                    "text": [
                        "\u001b[32m.\u001b[0m\u001b[32m.\u001b[0m\u001b[32m.\u001b[0m\u001b[32m                                                                                          [100%]\u001b[0m\n",
                        "\u001b[32m\u001b[32m\u001b[1m3 passed\u001b[0m\u001b[32m in 0.01s\u001b[0m\u001b[0m\n"
                    ]
                },
                {
                    "data": {
                        "text/plain": [
                            "<ExitCode.OK: 0>"
                        ]
                    },
                    "execution_count": 46,
                    "metadata": {},
                    "output_type": "execute_result"
                }
            ],
            "source": [
                "ipytest.clean_tests()  # Allows renaming tests\n",
                "\n",
                "\n",
                "@pytest.mark.parametrize(\n",
                "    \"test_input, reverse, expected\",\n",
                "    [\n",
                "        ([2, 1, 4, 3], False, [1, 2, 3, 4]),\n",
                "        ([2, 1, 4, 3], True, [4, 3, 2, 1]),\n",
                "        ([1, 2, 3, 4], False, [1, 2, 3, 4]),\n",
                "    ],\n",
                ")\n",
                "def test_bubble_sort(test_input, reverse, expected):\n",
                "    assert bubble_sort(test_input, reverse) == expected\n",
                "\n",
                "\n",
                "ipytest.run()"
            ]
        },
        {
            "cell_type": "code",
            "execution_count": null,
            "metadata": {},
            "outputs": [],
            "source": []
        }
    ],
    "metadata": {
        "kernelspec": {
            "display_name": "Python 3.10.7 ('DSA_Sheet_Love_Babbar-jS6GVz2S')",
            "language": "python",
            "name": "python3"
        },
        "language_info": {
            "codemirror_mode": {
                "name": "ipython",
                "version": 3
            },
            "file_extension": ".py",
            "mimetype": "text/x-python",
            "name": "python",
            "nbconvert_exporter": "python",
            "pygments_lexer": "ipython3",
            "version": "3.10.7"
        },
        "orig_nbformat": 4,
        "vscode": {
            "interpreter": {
                "hash": "5a824bf0de68dc95b5c710e57decf9b4fb4104c977e5f96e2613d6c7e65b5642"
            }
        }
    },
    "nbformat": 4,
    "nbformat_minor": 2
}
