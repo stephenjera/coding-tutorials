{
 "cells": [
  {
   "cell_type": "markdown",
   "metadata": {},
   "source": [
    "# The many flavors of loops"
   ]
  },
  {
   "cell_type": "code",
   "execution_count": 12,
   "metadata": {},
   "outputs": [],
   "source": [
    "# Some variables to loop through \n",
    "a_list = [1,3,4,2,5,5,6]\n",
    "a_tuple = (1,3,4,2,5,5,6)\n",
    "a_set = {1.0, \"Hello\", (1, 2, 3)}  # They can all be mixed types \n",
    "a_dict = {\n",
    "  \"brand\": \"Ford\",\n",
    "  \"model\": \"Mustang\",\n",
    "  \"year\": 1964\n",
    "}"
   ]
  },
  {
   "cell_type": "code",
   "execution_count": 2,
   "metadata": {},
   "outputs": [
    {
     "name": "stdout",
     "output_type": "stream",
     "text": [
      "0\n",
      "1\n",
      "2\n",
      "3\n",
      "4\n"
     ]
    }
   ],
   "source": [
    "# Loop through range of 5 \n",
    "for i in range(5):\n",
    "    print(i)"
   ]
  },
  {
   "cell_type": "code",
   "execution_count": 7,
   "metadata": {},
   "outputs": [
    {
     "name": "stdout",
     "output_type": "stream",
     "text": [
      "(0, 1)\n",
      "(1, 3)\n",
      "(2, 4)\n",
      "(3, 2)\n",
      "(4, 5)\n",
      "(5, 5)\n",
      "(6, 6)\n"
     ]
    }
   ],
   "source": [
    "# Enumerate returns a tuple of index and value \n",
    "for i in enumerate(a_list):\n",
    "    print(i)\n"
   ]
  },
  {
   "cell_type": "code",
   "execution_count": 9,
   "metadata": {},
   "outputs": [
    {
     "name": "stdout",
     "output_type": "stream",
     "text": [
      "(0, 1)\n",
      "(1, 3)\n",
      "(2, 4)\n",
      "(3, 2)\n",
      "(4, 5)\n",
      "(5, 5)\n",
      "(6, 6)\n"
     ]
    }
   ],
   "source": [
    "# Enumerate returns a tuple of index and value \n",
    "for i in enumerate(a_tuple):\n",
    "    print(i)"
   ]
  },
  {
   "cell_type": "code",
   "execution_count": 10,
   "metadata": {},
   "outputs": [
    {
     "name": "stdout",
     "output_type": "stream",
     "text": [
      "(0, 'Hello')\n",
      "(1, 1.0)\n",
      "(2, (1, 2, 3))\n"
     ]
    }
   ],
   "source": [
    "# Enumerate returns a tuple of index and value \n",
    "for i in enumerate(a_set):\n",
    "    print(i)"
   ]
  },
  {
   "cell_type": "code",
   "execution_count": 14,
   "metadata": {},
   "outputs": [
    {
     "name": "stdout",
     "output_type": "stream",
     "text": [
      "(0, 'brand')\n",
      "(1, 'model')\n",
      "(2, 'year')\n"
     ]
    }
   ],
   "source": [
    "# Only Keys are returned for dict \n",
    "for i in enumerate(a_dict):\n",
    "    print(i)"
   ]
  },
  {
   "cell_type": "code",
   "execution_count": 16,
   "metadata": {},
   "outputs": [
    {
     "name": "stdout",
     "output_type": "stream",
     "text": [
      "brand\n",
      "model\n",
      "year\n"
     ]
    }
   ],
   "source": [
    "# Only Keys are returned for dict \n",
    "for i in a_dict:\n",
    "    print(i)"
   ]
  },
  {
   "cell_type": "code",
   "execution_count": 18,
   "metadata": {},
   "outputs": [
    {
     "name": "stdout",
     "output_type": "stream",
     "text": [
      "('brand', 'Ford')\n",
      "('model', 'Mustang')\n",
      "('year', 1964)\n"
     ]
    }
   ],
   "source": [
    "# get keys and values \n",
    "for i in a_dict.items():\n",
    "    print(i)"
   ]
  },
  {
   "cell_type": "code",
   "execution_count": 19,
   "metadata": {},
   "outputs": [
    {
     "name": "stdout",
     "output_type": "stream",
     "text": [
      "brand\n",
      "Ford\n",
      "model\n",
      "Mustang\n",
      "year\n",
      "1964\n"
     ]
    }
   ],
   "source": [
    "# get keys and values separately \n",
    "for i, j in a_dict.items():\n",
    "    print(i)\n",
    "    print(j)"
   ]
  }
 ],
 "metadata": {
  "kernelspec": {
   "display_name": "Python 3.7.8 64-bit",
   "language": "python",
   "name": "python3"
  },
  "language_info": {
   "codemirror_mode": {
    "name": "ipython",
    "version": 3
   },
   "file_extension": ".py",
   "mimetype": "text/x-python",
   "name": "python",
   "nbconvert_exporter": "python",
   "pygments_lexer": "ipython3",
   "version": "3.7.8"
  },
  "orig_nbformat": 4,
  "vscode": {
   "interpreter": {
    "hash": "fc44e4cca7d5af33370edb31921ef6094fcf73a1d83235cd5f811ce68bb4e508"
   }
  }
 },
 "nbformat": 4,
 "nbformat_minor": 2
}
