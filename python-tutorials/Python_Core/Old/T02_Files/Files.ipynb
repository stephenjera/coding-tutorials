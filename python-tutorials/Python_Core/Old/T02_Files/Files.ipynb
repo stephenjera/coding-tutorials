{
 "cells": [
  {
   "cell_type": "markdown",
   "metadata": {},
   "source": [
    "# Working with files \n",
    "1. ``with`` is used to automatically close file\n",
    "1. r: open an existing file for a read operation.\n",
    "1. w: open an existing file for a write operation. If the file already contains some data then it will be overridden.\n",
    "1. a:  open an existing file for append operation. It won’t override existing data.\n",
    "1. r+:  To read and write data into the file. The previous data in the file will be overridden.\n",
    "1. w+: To write and read data. It will override existing data.\n",
    "1. a+: To append and read data from the file. It won’t override existing data."
   ]
  },
  {
   "cell_type": "code",
   "execution_count": 45,
   "metadata": {},
   "outputs": [
    {
     "name": "stdout",
     "output_type": "stream",
     "text": [
      "d:\\P\\Python-Projects\\Tutorials\\T02_Files\\test.txt\n",
      "DELETED\n"
     ]
    }
   ],
   "source": [
    "import os\n",
    "\n",
    "# delete test.txt if found \n",
    "dir = os.getcwd()\n",
    "path = f'{dir}\\\\test.txt'\n",
    "if os.path.isfile(path):\n",
    "    print(path)\n",
    "    os.remove(path)\n",
    "    print('DELETED')\n",
    "    "
   ]
  },
  {
   "cell_type": "code",
   "execution_count": 46,
   "metadata": {},
   "outputs": [],
   "source": [
    "# Open file for writing \n",
    "with open('test.txt','w') as file:\n",
    "    file.write('Hello World')\n"
   ]
  },
  {
   "cell_type": "code",
   "execution_count": 47,
   "metadata": {},
   "outputs": [
    {
     "name": "stdout",
     "output_type": "stream",
     "text": [
      "Hello World\n"
     ]
    }
   ],
   "source": [
    "with open('test.txt', 'r') as file:\n",
    "    print(file.read())"
   ]
  },
  {
   "cell_type": "code",
   "execution_count": 48,
   "metadata": {},
   "outputs": [],
   "source": [
    "# Append to file \n",
    "with open('test.txt', 'a') as file:\n",
    "    file.write('\\nLine two')"
   ]
  },
  {
   "cell_type": "code",
   "execution_count": 49,
   "metadata": {},
   "outputs": [
    {
     "name": "stdout",
     "output_type": "stream",
     "text": [
      "Hello World\n",
      "Line two\n"
     ]
    }
   ],
   "source": [
    "with open('test.txt', 'r') as file:\n",
    "    print(file.read())"
   ]
  },
  {
   "cell_type": "code",
   "execution_count": 50,
   "metadata": {},
   "outputs": [
    {
     "name": "stdout",
     "output_type": "stream",
     "text": [
      "Hello World\n",
      "Line two\n",
      "\n",
      "Hello World\n",
      "Line two\n",
      "Line 3\n"
     ]
    }
   ],
   "source": [
    "with open('test.txt', 'a+') as file:\n",
    "    file.seek(0) # 'a+ starts at end of file therefore go to beginning of file'\n",
    "    print(file.read())\n",
    "    file.write('\\nLine 3')\n",
    "    file.seek(0)\n",
    "    print()\n",
    "    print(file.read())"
   ]
  },
  {
   "cell_type": "code",
   "execution_count": 51,
   "metadata": {},
   "outputs": [
    {
     "name": "stdout",
     "output_type": "stream",
     "text": [
      "Hello World\n",
      "Line two\n",
      "Line 3\n"
     ]
    }
   ],
   "source": [
    "with open('test.txt', 'r') as file:\n",
    "    print(file.read())"
   ]
  }
 ],
 "metadata": {
  "kernelspec": {
   "display_name": "Python 3.7.8 64-bit",
   "language": "python",
   "name": "python3"
  },
  "language_info": {
   "codemirror_mode": {
    "name": "ipython",
    "version": 3
   },
   "file_extension": ".py",
   "mimetype": "text/x-python",
   "name": "python",
   "nbconvert_exporter": "python",
   "pygments_lexer": "ipython3",
   "version": "3.7.8"
  },
  "orig_nbformat": 4,
  "vscode": {
   "interpreter": {
    "hash": "fc44e4cca7d5af33370edb31921ef6094fcf73a1d83235cd5f811ce68bb4e508"
   }
  }
 },
 "nbformat": 4,
 "nbformat_minor": 2
}
