{
 "cells": [
  {
   "cell_type": "markdown",
   "metadata": {},
   "source": [
    "### Decorators"
   ]
  },
  {
   "cell_type": "code",
   "execution_count": 8,
   "metadata": {},
   "outputs": [],
   "source": [
    "from functools import wraps"
   ]
  },
  {
   "attachments": {},
   "cell_type": "markdown",
   "metadata": {},
   "source": [
    "#### function decorators"
   ]
  },
  {
   "cell_type": "code",
   "execution_count": 12,
   "metadata": {},
   "outputs": [
    {
     "name": "stdout",
     "output_type": "stream",
     "text": [
      "Before function is called\n",
      "Function is called\n",
      "After function is called\n",
      "\n",
      "Before function is called\n",
      "Wrapped function is called\n",
      "After function is called\n"
     ]
    }
   ],
   "source": [
    "# define a decorator function that takes\n",
    "# one argument (the function to be decorated)\n",
    "def my_decorator(func):\n",
    "    # define a nested function that adds additional behaviour\n",
    "    # before and after calling the original function\n",
    "    def wrapper():\n",
    "        # additional behaviour before calling the original function\n",
    "        print(\"Before function is called\")\n",
    "        func()  # call the original function\n",
    "        # additional behaviour after calling the original function\n",
    "        print(\"After function is called\")\n",
    "\n",
    "    return wrapper  # return the nested function\n",
    "\n",
    "def my_decorator_with_wraps(func):\n",
    "    # use waps decorator to keep original function metadata\n",
    "    @wraps(func)\n",
    "    def wrapper():\n",
    "        # additional behaviour before calling the original function\n",
    "        print(\"Before function is called\")\n",
    "        func()  # call the original function\n",
    "        # additional behaviour after calling the original function\n",
    "        print(\"After function is called\")\n",
    "\n",
    "    return wrapper  # return the nested function\n",
    "\n",
    "\n",
    "@my_decorator  # apply the decorator to the my_function using the @ syntax\n",
    "def my_function():  # define a function to be decorated\n",
    "    print(\"Function is called\")  # original behaviour of the function\n",
    "\n",
    "@my_decorator_with_wraps\n",
    "def my_function_wrapped():\n",
    "    print(\"Wrapped function is called\")\n",
    "    \n",
    "# call the decorated function\n",
    "my_function()\n",
    "print()\n",
    "my_function_wrapped()"
   ]
  },
  {
   "cell_type": "code",
   "execution_count": 14,
   "metadata": {},
   "outputs": [
    {
     "name": "stdout",
     "output_type": "stream",
     "text": [
      "wrapper\n",
      "my_decorator\n",
      "my_function_wrapped\n",
      "my_decorator_with_wraps\n"
     ]
    }
   ],
   "source": [
    "print(my_function.__name__) # function name replace with decorator \n",
    "print(my_decorator.__name__)\n",
    "print(my_function_wrapped.__name__) # keeps original name of function \n",
    "print(my_decorator_with_wraps.__name__)"
   ]
  },
  {
   "attachments": {},
   "cell_type": "markdown",
   "metadata": {},
   "source": [
    "#### Class decorators"
   ]
  },
  {
   "cell_type": "code",
   "execution_count": null,
   "metadata": {},
   "outputs": [],
   "source": [
    "# define a decorator function that takes one argument (the class to be decorated)\n",
    "def my_decorator(cls): \n",
    "    # save a reference to the original __init__ method of the class\n",
    "    original_init = cls.__init__ \n",
    "\n",
    "    # define a new __init__ method that adds additional behaviour \n",
    "    # before and after calling the original __init__ method\n",
    "    def new_init(self, *args, **kwargs): \n",
    "        # additional behaviour before calling the original __init__ method\n",
    "        print(\"Before init is called\") \n",
    "        # call the original __init__ method with the same arguments\n",
    "        original_init(self, *args, **kwargs) \n",
    "        # additional behaviour after calling the original __init__ method\n",
    "        print(\"After init is called\") \n",
    "\n",
    "    # replace the original __init__ method of the class with the new method\n",
    "    cls.__init__ = new_init \n",
    "    return cls # return the decorated class\n",
    "\n",
    "@my_decorator # apply the decorator to MyClass using the @ syntax\n",
    "class MyClass: # define a class to be decorated\n",
    "    def __init__(self, x): # define an __init__ method that takes one argument\n",
    "        self.x = x # assign the argument to an instance variable\n",
    "\n",
    "my_instance = MyClass(1) # create an instance of the decorated class"
   ]
  }
 ],
 "metadata": {
  "kernelspec": {
   "display_name": "base",
   "language": "python",
   "name": "python3"
  },
  "language_info": {
   "codemirror_mode": {
    "name": "ipython",
    "version": 3
   },
   "file_extension": ".py",
   "mimetype": "text/x-python",
   "name": "python",
   "nbconvert_exporter": "python",
   "pygments_lexer": "ipython3",
   "version": "3.9.7"
  },
  "orig_nbformat": 4
 },
 "nbformat": 4,
 "nbformat_minor": 2
}
