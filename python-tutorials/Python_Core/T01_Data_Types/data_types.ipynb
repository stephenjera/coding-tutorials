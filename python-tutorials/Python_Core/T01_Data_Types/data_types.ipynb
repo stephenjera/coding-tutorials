{
 "cells": [
  {
   "attachments": {},
   "cell_type": "markdown",
   "metadata": {},
   "source": [
    "### Data types"
   ]
  },
  {
   "attachments": {},
   "cell_type": "markdown",
   "metadata": {},
   "source": [
    "#### Integers  "
   ]
  },
  {
   "cell_type": "code",
   "execution_count": 4,
   "metadata": {},
   "outputs": [
    {
     "name": "stdout",
     "output_type": "stream",
     "text": [
      "10 10 10 10 10\n"
     ]
    }
   ],
   "source": [
    "a = 10  # int\n",
    "b = 0b1010  # binary\n",
    "c = 0xA  # hex\n",
    "d = int(10)  # function\n",
    "e = int(\"10\") # string\n",
    "print(a, b, c, d, e)"
   ]
  },
  {
   "attachments": {},
   "cell_type": "markdown",
   "metadata": {},
   "source": [
    "#### Floats"
   ]
  },
  {
   "cell_type": "code",
   "execution_count": 2,
   "metadata": {},
   "outputs": [
    {
     "name": "stdout",
     "output_type": "stream",
     "text": [
      "10.0 10.0 10.0 10.0 nan inf -inf\n"
     ]
    }
   ],
   "source": [
    "a = 10.0  # float\n",
    "b = 1e1  # scientific notation\n",
    "c = float(10)  # function\n",
    "d = float(\"10\")  # string\n",
    "e = float(\"nan\")\n",
    "f = float(\"inf\")\n",
    "g = float(\"-inf\")\n",
    "print(a, b, c, d, e, f, g)"
   ]
  },
  {
   "attachments": {},
   "cell_type": "markdown",
   "metadata": {},
   "source": [
    "#### None"
   ]
  },
  {
   "cell_type": "code",
   "execution_count": 3,
   "metadata": {},
   "outputs": [
    {
     "name": "stdout",
     "output_type": "stream",
     "text": [
      "None\n"
     ]
    }
   ],
   "source": [
    "# None \n",
    "a = None \n",
    "print(a) "
   ]
  },
  {
   "attachments": {},
   "cell_type": "markdown",
   "metadata": {},
   "source": [
    "#### Booleans"
   ]
  },
  {
   "cell_type": "code",
   "execution_count": 5,
   "metadata": {},
   "outputs": [
    {
     "name": "stdout",
     "output_type": "stream",
     "text": [
      "True False False True True False False True\n"
     ]
    }
   ],
   "source": [
    "# Python has truthy and falsey behaviour \n",
    "# any empty collections or zero is false \n",
    "a = True\n",
    "b = False\n",
    "c = bool(0) # false\n",
    "d = bool(-10)\n",
    "e = bool(\"hello\")\n",
    "f = bool(\"\") # false\n",
    "g = bool(None) # false\n",
    "h = bool(\"False\") # is true because string is not empty \n",
    "print(a, b, c, d, e, f, g, h)"
   ]
  }
 ],
 "metadata": {
  "kernelspec": {
   "display_name": "base",
   "language": "python",
   "name": "python3"
  },
  "language_info": {
   "codemirror_mode": {
    "name": "ipython",
    "version": 3
   },
   "file_extension": ".py",
   "mimetype": "text/x-python",
   "name": "python",
   "nbconvert_exporter": "python",
   "pygments_lexer": "ipython3",
   "version": "3.9.7"
  },
  "orig_nbformat": 4
 },
 "nbformat": 4,
 "nbformat_minor": 2
}
