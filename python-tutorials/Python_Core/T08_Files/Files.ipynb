{
 "cells": [
  {
   "attachments": {},
   "cell_type": "markdown",
   "metadata": {},
   "source": [
    "### Working with files \n",
    "1. ``with`` is used to automatically close file\n",
    "1. r: open an existing file for a read operation.\n",
    "1. w: open an existing file for a write operation. If the file already contains some data then it will be overridden.\n",
    "1. a:  open an existing file for append operation. It won’t override existing data.\n",
    "1. r+:  To read and write data into the file. The previous data in the file will be overridden.\n",
    "1. w+: To write and read data. It will override existing data.\n",
    "1. a+: To append and read data from the file. It won’t override existing data."
   ]
  },
  {
   "cell_type": "code",
   "execution_count": 75,
   "metadata": {},
   "outputs": [],
   "source": [
    "# import os\n",
    "\n",
    "# # delete test.txt if found\n",
    "# dir = os.getcwd()\n",
    "# path = f\"{dir}\\\\test.txt\"\n",
    "# if os.path.isfile(path):\n",
    "#     os.remove(path)\n",
    "#     print(\"DELETED\")"
   ]
  },
  {
   "attachments": {},
   "cell_type": "markdown",
   "metadata": {},
   "source": [
    "#### Text"
   ]
  },
  {
   "cell_type": "code",
   "execution_count": 76,
   "metadata": {},
   "outputs": [],
   "source": [
    "# open file for writing\n",
    "with open(\"test.txt\", \"wt\", encoding=\"utf-8\") as file:\n",
    "    file.write(\"Hello World\\n\")"
   ]
  },
  {
   "cell_type": "code",
   "execution_count": 77,
   "metadata": {},
   "outputs": [
    {
     "name": "stdout",
     "output_type": "stream",
     "text": [
      "Hello World\n",
      "\n"
     ]
    }
   ],
   "source": [
    "# open file for reading\n",
    "with open(\"test.txt\", \"rt\", encoding=\"utf-8\") as file:\n",
    "    print(file.read())"
   ]
  },
  {
   "cell_type": "code",
   "execution_count": 78,
   "metadata": {},
   "outputs": [],
   "source": [
    "# append to file\n",
    "with open(\"test.txt\", \"at\", encoding=\"utf-8\") as file:\n",
    "    file.write(\"Line two\\n\")"
   ]
  },
  {
   "cell_type": "code",
   "execution_count": 79,
   "metadata": {},
   "outputs": [
    {
     "name": "stdout",
     "output_type": "stream",
     "text": [
      "Hello World\n",
      "Line two\n",
      "\n"
     ]
    }
   ],
   "source": [
    "# read file\n",
    "with open(\"test.txt\", \"rt\", encoding=\"utf-8\") as file:\n",
    "    print(file.read())"
   ]
  },
  {
   "cell_type": "code",
   "execution_count": 80,
   "metadata": {},
   "outputs": [
    {
     "name": "stdout",
     "output_type": "stream",
     "text": [
      "Hello World\n",
      "Line two\n",
      "\n",
      "\n",
      "Hello World\n",
      "Line two\n",
      "Line 3\n",
      "\n"
     ]
    }
   ],
   "source": [
    "# append to file \n",
    "with open(\"test.txt\", \"at+\", encoding=\"utf-8\") as file:\n",
    "    file.seek(0)  # 'a+ starts at end of file therefore go to beginning of file'\n",
    "    print(file.read())\n",
    "    file.write(\"Line 3\\n\")\n",
    "    file.seek(0)\n",
    "    print()\n",
    "    print(file.read())"
   ]
  },
  {
   "cell_type": "code",
   "execution_count": 81,
   "metadata": {},
   "outputs": [
    {
     "name": "stdout",
     "output_type": "stream",
     "text": [
      "Hello World\n",
      "Line two\n",
      "Line 3\n",
      "\n"
     ]
    }
   ],
   "source": [
    "with open(\"test.txt\", \"rt\", encoding=\"utf-8\") as file:\n",
    "    print(file.read())"
   ]
  },
  {
   "attachments": {},
   "cell_type": "markdown",
   "metadata": {},
   "source": [
    "#### Binary"
   ]
  },
  {
   "cell_type": "code",
   "execution_count": 82,
   "metadata": {},
   "outputs": [],
   "source": [
    "# Writing binary data to a file\n",
    "with open(\"data.bin\", \"wb\") as file:\n",
    "    # Define some binary data\n",
    "    data = b'Hello, world!'\n",
    "    # Write the binary data to the file\n",
    "    file.write(data)"
   ]
  },
  {
   "cell_type": "code",
   "execution_count": 83,
   "metadata": {},
   "outputs": [
    {
     "name": "stdout",
     "output_type": "stream",
     "text": [
      "b'Hello, world!'\n",
      "Hello, world!\n"
     ]
    }
   ],
   "source": [
    "# Reading binary data from a file\n",
    "with open(\"data.bin\", \"rb\") as file:\n",
    "    # Read the binary data from the file\n",
    "    data = file.read()\n",
    "    # Print the binary data\n",
    "    print(data)\n",
    "    print(data.decode(\"utf-8\"))"
   ]
  }
 ],
 "metadata": {
  "kernelspec": {
   "display_name": "Python 3.7.8 64-bit",
   "language": "python",
   "name": "python3"
  },
  "language_info": {
   "codemirror_mode": {
    "name": "ipython",
    "version": 3
   },
   "file_extension": ".py",
   "mimetype": "text/x-python",
   "name": "python",
   "nbconvert_exporter": "python",
   "pygments_lexer": "ipython3",
   "version": "3.9.7"
  },
  "orig_nbformat": 4,
  "vscode": {
   "interpreter": {
    "hash": "fc44e4cca7d5af33370edb31921ef6094fcf73a1d83235cd5f811ce68bb4e508"
   }
  }
 },
 "nbformat": 4,
 "nbformat_minor": 2
}
