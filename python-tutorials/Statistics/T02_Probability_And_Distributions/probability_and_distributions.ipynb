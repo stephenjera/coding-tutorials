{
 "cells": [
  {
   "attachments": {},
   "cell_type": "markdown",
   "metadata": {},
   "source": [
    "# Statistics\n",
    "a branch of maths dealing with the collection, analysis, interpretation, presentation and organisation of data\n",
    "\n",
    "#### Process of statistics\n",
    "1. Formulate a hypothesis\n",
    "1. Make observations\n",
    "1. Analyze data and make conclusions"
   ]
  },
  {
   "attachments": {},
   "cell_type": "markdown",
   "metadata": {},
   "source": [
    "### Naive Set Theory\n",
    "\n",
    "A branch of maths that deals with sets"
   ]
  },
  {
   "attachments": {},
   "cell_type": "markdown",
   "metadata": {},
   "source": [
    "#### Set\n",
    "\n",
    "A well defined collections of objects\n",
    "\n",
    "- **Cardinality:** number of elements in a set"
   ]
  },
  {
   "cell_type": "code",
   "execution_count": 5,
   "metadata": {},
   "outputs": [
    {
     "name": "stdout",
     "output_type": "stream",
     "text": [
      "{1, 2, 3}\n",
      "{1, 2, 3}\n",
      "{1, 2, 3, 4}\n",
      "{2, 3, 4}\n",
      "True\n",
      "{1, 2, 3, 4, 5}\n",
      "{3}\n",
      "{1, 2}\n",
      "{4, 5}\n"
     ]
    }
   ],
   "source": [
    "# Create a set using curly braces\n",
    "my_set = {1, 2, 3}\n",
    "print(my_set)\n",
    "\n",
    "# Create a set using the set() function\n",
    "my_set = set([1, 2, 3])\n",
    "print(my_set)\n",
    "\n",
    "# Add an element to a set\n",
    "my_set.add(4)\n",
    "print(my_set)\n",
    "\n",
    "# Remove an element from a set\n",
    "my_set.remove(1)\n",
    "print(my_set)\n",
    "\n",
    "# Check if an element is in a set\n",
    "print(2 in my_set)\n",
    "\n",
    "# Perform set operations (union, intersection, difference)\n",
    "set1 = {1, 2, 3}\n",
    "set2 = {3, 4, 5}\n",
    "print(set1.union(set2)) # combine the two sets\n",
    "print(set1.intersection(set2)) # a set with only elements in both sets\n",
    "print(set1.difference(set2)) # items in set1 not in set2\n",
    "print(set2.difference(set1)) # items in set2 not in set1"
   ]
  },
  {
   "attachments": {},
   "cell_type": "markdown",
   "metadata": {},
   "source": [
    "### Experiments and Events"
   ]
  },
  {
   "cell_type": "code",
   "execution_count": null,
   "metadata": {},
   "outputs": [],
   "source": []
  }
 ],
 "metadata": {
  "kernelspec": {
   "display_name": "base",
   "language": "python",
   "name": "python3"
  },
  "language_info": {
   "codemirror_mode": {
    "name": "ipython",
    "version": 3
   },
   "file_extension": ".py",
   "mimetype": "text/x-python",
   "name": "python",
   "nbconvert_exporter": "python",
   "pygments_lexer": "ipython3",
   "version": "3.9.7"
  },
  "orig_nbformat": 4
 },
 "nbformat": 4,
 "nbformat_minor": 2
}
